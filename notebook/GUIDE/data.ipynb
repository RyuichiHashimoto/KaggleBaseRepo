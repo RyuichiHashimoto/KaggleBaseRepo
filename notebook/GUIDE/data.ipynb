{
 "cells": [
  {
   "cell_type": "code",
   "execution_count": 5,
   "id": "9e6772d4",
   "metadata": {},
   "outputs": [],
   "source": [
    "import polars as pl"
   ]
  },
  {
   "cell_type": "code",
   "execution_count": 76,
   "id": "5b7aac04-25f3-4696-a567-42499bd2f5fe",
   "metadata": {},
   "outputs": [],
   "source": [
    "train = \"/home/work/data/GUIDE/GUIDE_Train.csv\"\n",
    "excel_file = \"/home/work/notebook/GUIDE/technique.xlsx\""
   ]
  },
  {
   "cell_type": "code",
   "execution_count": 136,
   "id": "f5020121-4bda-4f83-b2b6-ccf3d22b1351",
   "metadata": {},
   "outputs": [],
   "source": [
    "df = pl.read_csv(train)"
   ]
  },
  {
   "cell_type": "code",
   "execution_count": 8,
   "id": "391fb9ff",
   "metadata": {},
   "outputs": [
    {
     "data": {
      "text/html": [
       "<div><style>\n",
       ".dataframe > thead > tr > th,\n",
       ".dataframe > tbody > tr > td {\n",
       "  text-align: right;\n",
       "}\n",
       "</style>\n",
       "<small>shape: (5, 45)</small><table border=\"1\" class=\"dataframe\"><thead><tr><th>Id</th><th>OrgId</th><th>IncidentId</th><th>AlertId</th><th>Timestamp</th><th>DetectorId</th><th>AlertTitle</th><th>Category</th><th>MitreTechniques</th><th>IncidentGrade</th><th>ActionGrouped</th><th>ActionGranular</th><th>EntityType</th><th>EvidenceRole</th><th>DeviceId</th><th>Sha256</th><th>IpAddress</th><th>Url</th><th>AccountSid</th><th>AccountUpn</th><th>AccountObjectId</th><th>AccountName</th><th>DeviceName</th><th>NetworkMessageId</th><th>EmailClusterId</th><th>RegistryKey</th><th>RegistryValueName</th><th>RegistryValueData</th><th>ApplicationId</th><th>ApplicationName</th><th>OAuthApplicationId</th><th>ThreatFamily</th><th>FileName</th><th>FolderPath</th><th>ResourceIdName</th><th>ResourceType</th><th>Roles</th><th>OSFamily</th><th>OSVersion</th><th>AntispamDirection</th><th>SuspicionLevel</th><th>LastVerdict</th><th>CountryCode</th><th>State</th><th>City</th></tr><tr><td>i64</td><td>i64</td><td>i64</td><td>i64</td><td>str</td><td>i64</td><td>i64</td><td>str</td><td>str</td><td>str</td><td>str</td><td>str</td><td>str</td><td>str</td><td>i64</td><td>i64</td><td>i64</td><td>i64</td><td>i64</td><td>i64</td><td>i64</td><td>i64</td><td>i64</td><td>i64</td><td>f64</td><td>i64</td><td>i64</td><td>i64</td><td>i64</td><td>i64</td><td>i64</td><td>str</td><td>i64</td><td>i64</td><td>i64</td><td>str</td><td>str</td><td>i64</td><td>i64</td><td>str</td><td>str</td><td>str</td><td>i64</td><td>i64</td><td>i64</td></tr></thead><tbody><tr><td>180388628218</td><td>0</td><td>612</td><td>123247</td><td>&quot;2024-06-04T06:…</td><td>7</td><td>6</td><td>&quot;InitialAccess&quot;</td><td>null</td><td>&quot;TruePositive&quot;</td><td>null</td><td>null</td><td>&quot;Ip&quot;</td><td>&quot;Related&quot;</td><td>98799</td><td>138268</td><td>27</td><td>160396</td><td>441377</td><td>673934</td><td>425863</td><td>453297</td><td>153085</td><td>529644</td><td>null</td><td>1631</td><td>635</td><td>860</td><td>2251</td><td>3421</td><td>881</td><td>null</td><td>289573</td><td>117668</td><td>3586</td><td>null</td><td>null</td><td>5</td><td>66</td><td>null</td><td>null</td><td>null</td><td>31</td><td>6</td><td>3</td></tr><tr><td>455266534868</td><td>88</td><td>326</td><td>210035</td><td>&quot;2024-06-14T03:…</td><td>58</td><td>43</td><td>&quot;Exfiltration&quot;</td><td>null</td><td>&quot;FalsePositive&quot;</td><td>null</td><td>null</td><td>&quot;User&quot;</td><td>&quot;Impacted&quot;</td><td>98799</td><td>138268</td><td>360606</td><td>160396</td><td>22406</td><td>23032</td><td>22795</td><td>24887</td><td>153085</td><td>529644</td><td>null</td><td>1631</td><td>635</td><td>860</td><td>2251</td><td>3421</td><td>881</td><td>null</td><td>289573</td><td>117668</td><td>3586</td><td>null</td><td>null</td><td>5</td><td>66</td><td>null</td><td>null</td><td>null</td><td>242</td><td>1445</td><td>10630</td></tr><tr><td>1056561957389</td><td>809</td><td>58352</td><td>712507</td><td>&quot;2024-06-13T04:…</td><td>423</td><td>298</td><td>&quot;InitialAccess&quot;</td><td>&quot;T1189&quot;</td><td>&quot;FalsePositive&quot;</td><td>null</td><td>null</td><td>&quot;Url&quot;</td><td>&quot;Related&quot;</td><td>98799</td><td>138268</td><td>360606</td><td>68652</td><td>441377</td><td>673934</td><td>425863</td><td>453297</td><td>153085</td><td>529644</td><td>null</td><td>1631</td><td>635</td><td>860</td><td>2251</td><td>3421</td><td>881</td><td>null</td><td>289573</td><td>117668</td><td>3586</td><td>null</td><td>null</td><td>5</td><td>66</td><td>null</td><td>&quot;Suspicious&quot;</td><td>&quot;Suspicious&quot;</td><td>242</td><td>1445</td><td>10630</td></tr><tr><td>1279900258736</td><td>92</td><td>32992</td><td>774301</td><td>&quot;2024-06-10T16:…</td><td>2</td><td>2</td><td>&quot;CommandAndCont…</td><td>null</td><td>&quot;BenignPositive…</td><td>null</td><td>null</td><td>&quot;Url&quot;</td><td>&quot;Related&quot;</td><td>98799</td><td>138268</td><td>360606</td><td>13</td><td>441377</td><td>673934</td><td>425863</td><td>453297</td><td>153085</td><td>529644</td><td>null</td><td>1631</td><td>635</td><td>860</td><td>2251</td><td>3421</td><td>881</td><td>null</td><td>289573</td><td>117668</td><td>3586</td><td>null</td><td>null</td><td>5</td><td>66</td><td>null</td><td>&quot;Suspicious&quot;</td><td>&quot;Suspicious&quot;</td><td>242</td><td>1445</td><td>10630</td></tr><tr><td>214748368522</td><td>148</td><td>4359</td><td>188041</td><td>&quot;2024-06-15T01:…</td><td>9</td><td>74</td><td>&quot;Execution&quot;</td><td>null</td><td>&quot;TruePositive&quot;</td><td>null</td><td>null</td><td>&quot;User&quot;</td><td>&quot;Impacted&quot;</td><td>98799</td><td>138268</td><td>360606</td><td>160396</td><td>449</td><td>592</td><td>440</td><td>479</td><td>153085</td><td>529644</td><td>null</td><td>1631</td><td>635</td><td>860</td><td>2251</td><td>3421</td><td>881</td><td>null</td><td>289573</td><td>117668</td><td>3586</td><td>null</td><td>null</td><td>5</td><td>66</td><td>null</td><td>null</td><td>null</td><td>242</td><td>1445</td><td>10630</td></tr></tbody></table></div>"
      ],
      "text/plain": [
       "shape: (5, 45)\n",
       "┌───────────────┬───────┬────────────┬─────────┬───┬─────────────┬─────────────┬───────┬───────┐\n",
       "│ Id            ┆ OrgId ┆ IncidentId ┆ AlertId ┆ … ┆ LastVerdict ┆ CountryCode ┆ State ┆ City  │\n",
       "│ ---           ┆ ---   ┆ ---        ┆ ---     ┆   ┆ ---         ┆ ---         ┆ ---   ┆ ---   │\n",
       "│ i64           ┆ i64   ┆ i64        ┆ i64     ┆   ┆ str         ┆ i64         ┆ i64   ┆ i64   │\n",
       "╞═══════════════╪═══════╪════════════╪═════════╪═══╪═════════════╪═════════════╪═══════╪═══════╡\n",
       "│ 180388628218  ┆ 0     ┆ 612        ┆ 123247  ┆ … ┆ null        ┆ 31          ┆ 6     ┆ 3     │\n",
       "│ 455266534868  ┆ 88    ┆ 326        ┆ 210035  ┆ … ┆ null        ┆ 242         ┆ 1445  ┆ 10630 │\n",
       "│ 1056561957389 ┆ 809   ┆ 58352      ┆ 712507  ┆ … ┆ Suspicious  ┆ 242         ┆ 1445  ┆ 10630 │\n",
       "│ 1279900258736 ┆ 92    ┆ 32992      ┆ 774301  ┆ … ┆ Suspicious  ┆ 242         ┆ 1445  ┆ 10630 │\n",
       "│ 214748368522  ┆ 148   ┆ 4359       ┆ 188041  ┆ … ┆ null        ┆ 242         ┆ 1445  ┆ 10630 │\n",
       "└───────────────┴───────┴────────────┴─────────┴───┴─────────────┴─────────────┴───────┴───────┘"
      ]
     },
     "execution_count": 8,
     "metadata": {},
     "output_type": "execute_result"
    }
   ],
   "source": [
    "df.head()"
   ]
  },
  {
   "cell_type": "code",
   "execution_count": 166,
   "id": "e073bc41",
   "metadata": {},
   "outputs": [
    {
     "data": {
      "text/plain": [
       "466151"
      ]
     },
     "execution_count": 166,
     "metadata": {},
     "output_type": "execute_result"
    }
   ],
   "source": [
    "df.get_column(\"IncidentId\").unique().shape[0]"
   ]
  },
  {
   "cell_type": "code",
   "execution_count": 137,
   "id": "2289d53d",
   "metadata": {},
   "outputs": [],
   "source": [
    "mitre_df = df.drop_nulls(subset=\"MitreTechniques\")"
   ]
  },
  {
   "cell_type": "code",
   "execution_count": 138,
   "id": "9c869be8",
   "metadata": {},
   "outputs": [
    {
     "data": {
      "text/plain": [
       "(4048451, 45)"
      ]
     },
     "execution_count": 138,
     "metadata": {},
     "output_type": "execute_result"
    }
   ],
   "source": [
    "mitre_df.shape"
   ]
  },
  {
   "cell_type": "markdown",
   "id": "97c13df8",
   "metadata": {},
   "source": [
    "## インシデント全体"
   ]
  },
  {
   "cell_type": "code",
   "execution_count": 139,
   "id": "066858e5",
   "metadata": {},
   "outputs": [],
   "source": [
    "import matplotlib.pyplot as plt"
   ]
  },
  {
   "cell_type": "code",
   "execution_count": 140,
   "id": "3faa4b9e",
   "metadata": {},
   "outputs": [],
   "source": [
    "counted_df = mitre_df.groupby(pl.col(\"IncidentId\")).count().sort(\"count\")\n",
    "incident_sizes = counted_df.filter(pl.col(\"count\") <= 100).sort(\"count\").get_column(\"count\").to_numpy()"
   ]
  },
  {
   "cell_type": "code",
   "execution_count": 141,
   "id": "0a69eec5",
   "metadata": {},
   "outputs": [
    {
     "data": {
      "image/png": "[encoded data removed]",
      "text/plain": [
       "<Figure size 1000x600 with 1 Axes>"
      ]
     },
     "metadata": {},
     "output_type": "display_data"
    }
   ],
   "source": [
    "# 散布図の描画\n",
    "plt.figure(figsize=(10, 6))\n",
    "plt.hist(incident_sizes, bins=100, log=True)\n",
    "plt.yscale('log')\n",
    "plt.title('Incident Size Distribution')\n",
    "plt.xlabel('Incident size (# of alerts)')\n",
    "plt.ylabel('# of incidents')\n",
    "plt.show()"
   ]
  },
  {
   "cell_type": "markdown",
   "id": "bd7c5087",
   "metadata": {},
   "source": [
    "## Preparation タスク"
   ]
  },
  {
   "cell_type": "code",
   "execution_count": 142,
   "id": "39525a46",
   "metadata": {},
   "outputs": [],
   "source": [
    "excel_df = pl.read_excel(excel_file)"
   ]
  },
  {
   "cell_type": "code",
   "execution_count": 143,
   "id": "80bf426b",
   "metadata": {},
   "outputs": [],
   "source": [
    "preparation = [\"Reconnaissance\", \"Resource Development\", \"Initial Access\"]\n",
    "intrusion = ['Defense Evasion', 'Discovery', 'Collection', 'Lateral Movement', 'Execution', 'Credential Access', 'Command and Control', 'Privilege Escalation', 'Persistence']\n",
    "compromize = [\"Impact\", \"Exfiltration\"]"
   ]
  },
  {
   "cell_type": "code",
   "execution_count": 144,
   "id": "cd57ba65",
   "metadata": {},
   "outputs": [],
   "source": [
    "excel_df = excel_df.with_columns(pl.col(\"tactics\").apply(lambda x: any(p in x for p in preparation )).alias('contains_preparation'))\n",
    "excel_df = excel_df.with_columns(pl.col(\"tactics\").apply(lambda x: any(p in x for p in compromize )).alias('contains_compromize'))"
   ]
  },
  {
   "cell_type": "code",
   "execution_count": 145,
   "id": "421b2204",
   "metadata": {},
   "outputs": [],
   "source": [
    "preparation_dict = dict(zip(excel_df.get_column('ID').to_list(), excel_df.get_column('contains_preparation').to_list()))\n",
    "compromize_dict = dict(zip(excel_df.get_column('ID').to_list(), excel_df.get_column('contains_compromize').to_list()))"
   ]
  },
  {
   "cell_type": "code",
   "execution_count": 146,
   "id": "f593b468",
   "metadata": {},
   "outputs": [],
   "source": [
    "def check_contains_preparation(techniques, preparation_dict):\n",
    "    # mitreTechniques を ';' で分割してリスト化\n",
    "    techniques_list = techniques.split(';')\n",
    "    # それぞれのテクニックが辞書にあり、かつTrueであればTrueを返す\n",
    "    return any(preparation_dict.get(technique, False) for technique in techniques_list)"
   ]
  },
  {
   "cell_type": "code",
   "execution_count": 147,
   "id": "a3ebede8",
   "metadata": {},
   "outputs": [],
   "source": [
    "mitre_df = mitre_df.with_columns(\n",
    "    pl.col('MitreTechniques').apply(lambda x: check_contains_preparation(x, preparation_dict)).alias('is_preparation_alert')\n",
    ")\n",
    "mitre_df = mitre_df.with_columns(\n",
    "    pl.col('MitreTechniques').apply(lambda x: check_contains_preparation(x, compromize_dict)).alias('is_compromize_alert')\n",
    ")"
   ]
  },
  {
   "cell_type": "markdown",
   "id": "708179b5",
   "metadata": {},
   "source": [
    "## "
   ]
  },
  {
   "cell_type": "code",
   "execution_count": 148,
   "id": "05be476c",
   "metadata": {},
   "outputs": [
    {
     "data": {
      "text/html": [
       "<div><style>\n",
       ".dataframe > thead > tr > th,\n",
       ".dataframe > tbody > tr > td {\n",
       "  text-align: right;\n",
       "}\n",
       "</style>\n",
       "<small>shape: (5, 47)</small><table border=\"1\" class=\"dataframe\"><thead><tr><th>Id</th><th>OrgId</th><th>IncidentId</th><th>AlertId</th><th>Timestamp</th><th>DetectorId</th><th>AlertTitle</th><th>Category</th><th>MitreTechniques</th><th>IncidentGrade</th><th>ActionGrouped</th><th>ActionGranular</th><th>EntityType</th><th>EvidenceRole</th><th>DeviceId</th><th>Sha256</th><th>IpAddress</th><th>Url</th><th>AccountSid</th><th>AccountUpn</th><th>AccountObjectId</th><th>AccountName</th><th>DeviceName</th><th>NetworkMessageId</th><th>EmailClusterId</th><th>RegistryKey</th><th>RegistryValueName</th><th>RegistryValueData</th><th>ApplicationId</th><th>ApplicationName</th><th>OAuthApplicationId</th><th>ThreatFamily</th><th>FileName</th><th>FolderPath</th><th>ResourceIdName</th><th>ResourceType</th><th>Roles</th><th>OSFamily</th><th>OSVersion</th><th>AntispamDirection</th><th>SuspicionLevel</th><th>LastVerdict</th><th>CountryCode</th><th>State</th><th>City</th><th>is_preparation_alert</th><th>is_compromize_alert</th></tr><tr><td>i64</td><td>i64</td><td>i64</td><td>i64</td><td>str</td><td>i64</td><td>i64</td><td>str</td><td>str</td><td>str</td><td>str</td><td>str</td><td>str</td><td>str</td><td>i64</td><td>i64</td><td>i64</td><td>i64</td><td>i64</td><td>i64</td><td>i64</td><td>i64</td><td>i64</td><td>i64</td><td>f64</td><td>i64</td><td>i64</td><td>i64</td><td>i64</td><td>i64</td><td>i64</td><td>str</td><td>i64</td><td>i64</td><td>i64</td><td>str</td><td>str</td><td>i64</td><td>i64</td><td>str</td><td>str</td><td>str</td><td>i64</td><td>i64</td><td>i64</td><td>bool</td><td>bool</td></tr></thead><tbody><tr><td>1056561957389</td><td>809</td><td>58352</td><td>712507</td><td>&quot;2024-06-13T04:…</td><td>423</td><td>298</td><td>&quot;InitialAccess&quot;</td><td>&quot;T1189&quot;</td><td>&quot;FalsePositive&quot;</td><td>null</td><td>null</td><td>&quot;Url&quot;</td><td>&quot;Related&quot;</td><td>98799</td><td>138268</td><td>360606</td><td>68652</td><td>441377</td><td>673934</td><td>425863</td><td>453297</td><td>153085</td><td>529644</td><td>null</td><td>1631</td><td>635</td><td>860</td><td>2251</td><td>3421</td><td>881</td><td>null</td><td>289573</td><td>117668</td><td>3586</td><td>null</td><td>null</td><td>5</td><td>66</td><td>null</td><td>&quot;Suspicious&quot;</td><td>&quot;Suspicious&quot;</td><td>242</td><td>1445</td><td>10630</td><td>true</td><td>false</td></tr><tr><td>1322849927433</td><td>11</td><td>417400</td><td>825450</td><td>&quot;2024-06-10T13:…</td><td>0</td><td>0</td><td>&quot;InitialAccess&quot;</td><td>&quot;T1078;T1078.00…</td><td>&quot;FalsePositive&quot;</td><td>null</td><td>null</td><td>&quot;Ip&quot;</td><td>&quot;Related&quot;</td><td>98799</td><td>138268</td><td>30410</td><td>160396</td><td>441377</td><td>673934</td><td>425863</td><td>453297</td><td>153085</td><td>529644</td><td>null</td><td>1631</td><td>635</td><td>860</td><td>2251</td><td>3421</td><td>881</td><td>null</td><td>289573</td><td>117668</td><td>3586</td><td>null</td><td>null</td><td>5</td><td>66</td><td>null</td><td>null</td><td>null</td><td>8</td><td>6</td><td>3</td><td>true</td><td>false</td></tr><tr><td>781684051738</td><td>2119</td><td>6622</td><td>23284</td><td>&quot;2024-06-10T10:…</td><td>13</td><td>11</td><td>&quot;InitialAccess&quot;</td><td>&quot;T1566&quot;</td><td>&quot;BenignPositive…</td><td>null</td><td>null</td><td>&quot;MailMessage&quot;</td><td>&quot;Related&quot;</td><td>98799</td><td>138268</td><td>360606</td><td>160396</td><td>441377</td><td>160691</td><td>425863</td><td>453297</td><td>153085</td><td>1842</td><td>null</td><td>1631</td><td>635</td><td>860</td><td>2251</td><td>3421</td><td>881</td><td>null</td><td>289573</td><td>117668</td><td>3586</td><td>null</td><td>null</td><td>5</td><td>66</td><td>null</td><td>null</td><td>null</td><td>242</td><td>1445</td><td>10630</td><td>true</td><td>false</td></tr><tr><td>635655163305</td><td>261</td><td>110412</td><td>41503</td><td>&quot;2024-06-03T17:…</td><td>1794</td><td>344</td><td>&quot;Collection&quot;</td><td>&quot;T1098;T1114&quot;</td><td>&quot;BenignPositive…</td><td>null</td><td>null</td><td>&quot;User&quot;</td><td>&quot;Impacted&quot;</td><td>98799</td><td>138268</td><td>360606</td><td>160396</td><td>172996</td><td>268738</td><td>173595</td><td>184537</td><td>153085</td><td>529644</td><td>null</td><td>1631</td><td>635</td><td>860</td><td>2251</td><td>3421</td><td>881</td><td>null</td><td>289573</td><td>117668</td><td>3586</td><td>null</td><td>null</td><td>5</td><td>66</td><td>null</td><td>null</td><td>null</td><td>242</td><td>1445</td><td>10630</td><td>false</td><td>false</td></tr><tr><td>429496732853</td><td>51</td><td>84683</td><td>134887</td><td>&quot;2024-06-05T04:…</td><td>39</td><td>26</td><td>&quot;Execution&quot;</td><td>&quot;T1559;T1106;T1…</td><td>&quot;BenignPositive…</td><td>null</td><td>null</td><td>&quot;File&quot;</td><td>&quot;Related&quot;</td><td>98799</td><td>4</td><td>360606</td><td>160396</td><td>441377</td><td>673934</td><td>425863</td><td>453297</td><td>153085</td><td>529644</td><td>null</td><td>1631</td><td>635</td><td>860</td><td>2251</td><td>3421</td><td>881</td><td>null</td><td>3</td><td>6</td><td>3586</td><td>null</td><td>null</td><td>5</td><td>66</td><td>null</td><td>null</td><td>null</td><td>242</td><td>1445</td><td>10630</td><td>false</td><td>false</td></tr></tbody></table></div>"
      ],
      "text/plain": [
       "shape: (5, 47)\n",
       "┌───────────────┬───────┬────────────┬─────────┬───┬───────┬───────┬───────────────┬───────────────┐\n",
       "│ Id            ┆ OrgId ┆ IncidentId ┆ AlertId ┆ … ┆ State ┆ City  ┆ is_preparatio ┆ is_compromize │\n",
       "│ ---           ┆ ---   ┆ ---        ┆ ---     ┆   ┆ ---   ┆ ---   ┆ n_alert       ┆ _alert        │\n",
       "│ i64           ┆ i64   ┆ i64        ┆ i64     ┆   ┆ i64   ┆ i64   ┆ ---           ┆ ---           │\n",
       "│               ┆       ┆            ┆         ┆   ┆       ┆       ┆ bool          ┆ bool          │\n",
       "╞═══════════════╪═══════╪════════════╪═════════╪═══╪═══════╪═══════╪═══════════════╪═══════════════╡\n",
       "│ 1056561957389 ┆ 809   ┆ 58352      ┆ 712507  ┆ … ┆ 1445  ┆ 10630 ┆ true          ┆ false         │\n",
       "│ 1322849927433 ┆ 11    ┆ 417400     ┆ 825450  ┆ … ┆ 6     ┆ 3     ┆ true          ┆ false         │\n",
       "│ 781684051738  ┆ 2119  ┆ 6622       ┆ 23284   ┆ … ┆ 1445  ┆ 10630 ┆ true          ┆ false         │\n",
       "│ 635655163305  ┆ 261   ┆ 110412     ┆ 41503   ┆ … ┆ 1445  ┆ 10630 ┆ false         ┆ false         │\n",
       "│ 429496732853  ┆ 51    ┆ 84683      ┆ 134887  ┆ … ┆ 1445  ┆ 10630 ┆ false         ┆ false         │\n",
       "└───────────────┴───────┴────────────┴─────────┴───┴───────┴───────┴───────────────┴───────────────┘"
      ]
     },
     "execution_count": 148,
     "metadata": {},
     "output_type": "execute_result"
    }
   ],
   "source": [
    "mitre_df.head()"
   ]
  },
  {
   "cell_type": "code",
   "execution_count": 149,
   "id": "b854d84a",
   "metadata": {},
   "outputs": [
    {
     "data": {
      "text/plain": [
       "(4048451, 47)"
      ]
     },
     "execution_count": 149,
     "metadata": {},
     "output_type": "execute_result"
    }
   ],
   "source": [
    "mitre_df.shape"
   ]
  },
  {
   "cell_type": "code",
   "execution_count": 157,
   "id": "9a12524e",
   "metadata": {},
   "outputs": [],
   "source": [
    "incident_df = mitre_df.groupby(\"IncidentId\").agg([pl.col(\"is_preparation_alert\").sum(), pl.col(\"is_compromize_alert\").sum(), pl.col(\"City\").count().alias(\"alertsize\")])"
   ]
  },
  {
   "cell_type": "code",
   "execution_count": 168,
   "id": "09ccda8d",
   "metadata": {},
   "outputs": [
    {
     "data": {
      "text/plain": [
       "183052"
      ]
     },
     "execution_count": 168,
     "metadata": {},
     "output_type": "execute_result"
    }
   ],
   "source": [
    "incident_df.shape[0]"
   ]
  },
  {
   "cell_type": "code",
   "execution_count": 171,
   "id": "7cb7e4c8",
   "metadata": {},
   "outputs": [
    {
     "name": "stdout",
     "output_type": "stream",
     "text": [
      "(158874, 4)\n",
      "(2117, 4)\n"
     ]
    }
   ],
   "source": [
    "print(incident_df.filter(pl.col(\"is_preparation_alert\") >= 1).shape)\n",
    "print(incident_df.filter((pl.col(\"is_compromize_alert\") >= 1) & pl.col(\"is_preparation_alert\") >= 1).shape)"
   ]
  },
  {
   "cell_type": "markdown",
   "id": "d6ec8d14",
   "metadata": {},
   "source": [
    "# \n",
    "トレインデータに含まれるシナリオは466,151個\n",
    "そのうち、MITRE Techniqueが一つでも含まれる攻撃シナリオは183,052個\n",
    "そのうち、ImpactもしくはExfiltrationが一つでも含まれる攻撃シナリオは  8,098個\n",
    "そのうち、preparation_フェーズの攻撃が含まれる攻撃シナリオは 2117個"
   ]
  }
 ],
 "metadata": {
  "kernelspec": {
   "display_name": "Python 3 (ipykernel)",
   "language": "python",
   "name": "python3"
  },
  "language_info": {
   "codemirror_mode": {
    "name": "ipython",
    "version": 3
   },
   "file_extension": ".py",
   "mimetype": "text/x-python",
   "name": "python",
   "nbconvert_exporter": "python",
   "pygments_lexer": "ipython3",
   "version": "3.9.19"
  }
 },
 "nbformat": 4,
 "nbformat_minor": 5
}
