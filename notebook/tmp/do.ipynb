{
 "cells": [
  {
   "cell_type": "code",
   "execution_count": 1,
   "id": "f96becde-24bb-4928-a84e-47f06993203a",
   "metadata": {
    "tags": []
   },
   "outputs": [],
   "source": [
    "from itertools import zip_longest\n",
    "import polars as pl\n",
    "from tqdm import tqdm"
   ]
  },
  {
   "cell_type": "code",
   "execution_count": 2,
   "id": "8bb772ca-9448-4988-9d77-24dfa5c6aff3",
   "metadata": {},
   "outputs": [],
   "source": [
    "def load2df(file):\n",
    "    with open(file) as fin:\n",
    "        lines = fin.readlines()\n",
    "        \n",
    "    records = []\n",
    "    tmp_record = {}\n",
    "    is_first = True\n",
    "    for line in tqdm(lines):\n",
    "        line = line.replace(\"\\n\", \"\")\n",
    "\n",
    "        first = (\"|\" in line)\n",
    "        second = line.startswith(\"WEDNESDAY\")\n",
    "        third = line.startswith(\"THURSDAY\")    \n",
    "\n",
    "        # print(first, second, third)\n",
    "        if first and (second or third):\n",
    "            DAY = line.split(\"|\")[0]\n",
    "            TIME = line.split(\"|\")[1]\n",
    "            continue\n",
    "\n",
    "        added_flag = False\n",
    "\n",
    "\n",
    "        for key in [\"Speaker:\",\"Track:\", \"Tracks:\", \"Format:\", \"Location:\", \"Contributor:\", \"Panelist:\", \"Keynote:\", \"Moderator:\", \"Experience:\"]:\n",
    "            if line.startswith(key):\n",
    "                assert key not in tmp_record, f\"{line}, {key} {tmp_record}\"\n",
    "                added_key = key[:-1]\n",
    "\n",
    "                if \"Contributor:\" == key:\n",
    "                    added_key = \"Speaker\"\n",
    "                if \"Tracks:\" == key:\n",
    "                    added_key = \"Track\"\n",
    "                if \"Moderator\" == key:\n",
    "                    added_key = \"Speaker\"\n",
    "                if \"Keynote:\" == key:\n",
    "                    added_key = \"Main\"\n",
    "                \n",
    "\n",
    "\n",
    "                tmp_record[added_key] = \":\".join(line.split(\":\")[1:])\n",
    "                added_flag = True\n",
    "\n",
    "        if not added_flag:\n",
    "            assert \"Main\" not in tmp_record, f\"{line} main {tmp_record}\"\n",
    "            tmp_record[\"Main\"] = line\n",
    "\n",
    "        if line.startswith(\"Location:\"):\n",
    "            tmp_record[\"Date\"]= DAY\n",
    "            tmp_record[\"Time\"]= TIME\n",
    "            records.append(tmp_record)\n",
    "\n",
    "            tmp_record = {}\n",
    "    return pl.DataFrame(records)\n",
    "\n",
    "def load_session(file):\n",
    "    with open(file, \"r\") as fin:\n",
    "        return [a.strip() for a in fin.readlines()]    "
   ]
  },
  {
   "cell_type": "code",
   "execution_count": 3,
   "id": "2e56a99a-e4e3-4623-82d1-5639ab0af652",
   "metadata": {
    "tags": []
   },
   "outputs": [
    {
     "name": "stderr",
     "output_type": "stream",
     "text": [
      "100%|██████████| 590/590 [00:00<00:00, 239953.39it/s]\n"
     ]
    }
   ],
   "source": [
    "df_2023 = load2df('2023_sessions.txt')\n",
    "tracks_2023 = load_session('2023_tracks.txt')"
   ]
  },
  {
   "cell_type": "code",
   "execution_count": 4,
   "id": "19e64c38-03ab-4930-9aff-73fd00bc7af2",
   "metadata": {},
   "outputs": [],
   "source": [
    "dict_2023={}\n",
    "for target_label in tracks_2023:\n",
    "    dict_2023[target_label] = df_2023.filter(pl.col(\"Track\").str.contains(target_label)).shape[0]\n",
    "\n",
    "sorted_keys_2023 = sorted(dict_2023, key=dict_2023.get, reverse=True)"
   ]
  },
  {
   "cell_type": "code",
   "execution_count": 19,
   "id": "d77d75fd-f3f2-4614-9ba7-b9de63e73b7a",
   "metadata": {},
   "outputs": [
    {
     "name": "stdout",
     "output_type": "stream",
     "text": [
      "Defense 17\n",
      "AI, ML, & Data Science 15\n",
      "Exploit Development 14\n",
      "Application Security: Offense 13\n",
      "Enterprise Security 13\n",
      "Hardware / Embedded 12\n",
      "Application Security: Defense 11\n",
      "Cloud Security 11\n",
      "Data Forensics & Incident Response 11\n",
      "Network Security 10\n",
      "Platform Security 10\n",
      "Cyber-Physical Systems & IoT 9\n",
      "Mobile 8\n",
      "Reverse Engineering 8\n",
      "Cryptography 7\n",
      "Malware 7\n",
      "Policy 6\n",
      "Human Factors 5\n",
      "Cyber Insurance 4\n",
      "Entrepreneur 4\n",
      "Privacy 4\n",
      "Community & Career 3\n",
      "Keynote 3\n"
     ]
    }
   ],
   "source": [
    "sum_2023 = 0\n",
    "for a in sorted_keys_2023:\n",
    "    print(a, dict_2023[a])\n",
    "    sum_2023 += dict_2023[a]"
   ]
  },
  {
   "cell_type": "markdown",
   "id": "f64ae959-cfdb-4fea-a8ad-849bc050ff54",
   "metadata": {},
   "source": [
    "AI, ML, & Data Science: 5 -> 15\n",
    "    - \n",
    "    - \n",
    "\n",
    "Application Security: 17 → 24  \n",
    "Enterprise Sesecurity: 17 → 24  \n",
    "Data Forensics & Incident Response: 4 → 11   \n",
    "\n",
    "Cyber insurance: 新規軸\n",
    "    -　\n",
    "\n"
   ]
  },
  {
   "cell_type": "code",
   "execution_count": 6,
   "id": "dd3a39f5-ceef-479a-85f1-d11723d9e31a",
   "metadata": {},
   "outputs": [
    {
     "name": "stderr",
     "output_type": "stream",
     "text": [
      "100%|██████████| 659/659 [00:00<00:00, 249237.72it/s]\n"
     ]
    }
   ],
   "source": [
    "df_2022 = load2df('2022_sessions.txt')\n",
    "tracks_2022 = load_session('2022_tracks.txt')"
   ]
  },
  {
   "cell_type": "code",
   "execution_count": 7,
   "id": "b0925105-56fa-4629-bb9e-b13798eb5c76",
   "metadata": {},
   "outputs": [],
   "source": [
    "dict_2022={}\n",
    "for target_label in tracks_2022:\n",
    "    dict_2022[target_label] = df_2022.filter(pl.col(\"Track\").str.contains(target_label)).shape[0]\n",
    "\n",
    "sorted_keys_2022 = sorted(dict_2022, key=dict_2022.get, reverse=True)"
   ]
  },
  {
   "cell_type": "code",
   "execution_count": 20,
   "id": "ade2297c-a52c-4c4e-9291-a6a1b63dfa48",
   "metadata": {},
   "outputs": [
    {
     "name": "stdout",
     "output_type": "stream",
     "text": [
      "Cloud & Platform Security 21\n",
      "Application Security 17\n",
      "Defense 15\n",
      "Exploit Development 15\n",
      "Hardware / Embedded 14\n",
      "Reverse Engineering 13\n",
      "Network Security 12\n",
      "Lessons Learned 9\n",
      "Malware 9\n",
      "Mobile 9\n",
      "Enterprise Security 7\n",
      "Cyber-Physical Systems 6\n",
      "Human Factors 6\n",
      "Policy 6\n",
      "AI, ML, & Data Science 5\n",
      "Cryptography 5\n",
      "Privacy 5\n",
      "Community & Career 4\n",
      "Data Forensics & Incident Response 4\n",
      "Keynote 3\n"
     ]
    }
   ],
   "source": [
    "sum_2022 = 0\n",
    "for a in sorted_keys_2022:\n",
    "    print(a, dict_2022[a])\n",
    "    sum_2022 += dict_2022[a]"
   ]
  },
  {
   "cell_type": "code",
   "execution_count": 9,
   "id": "a62f3f65-07d5-430d-8106-63a1b2510a17",
   "metadata": {},
   "outputs": [
    {
     "name": "stderr",
     "output_type": "stream",
     "text": [
      "100%|██████████| 669/669 [00:00<00:00, 239807.66it/s]\n"
     ]
    }
   ],
   "source": [
    "df_2021 = load2df('2021_sessions.txt')\n",
    "tracks_2021 = load_session('2021_tracks.txt')"
   ]
  },
  {
   "cell_type": "code",
   "execution_count": 10,
   "id": "37a11558-4d3b-4ab1-8df6-90a9ded21ca1",
   "metadata": {},
   "outputs": [],
   "source": [
    "dict_2021={}\n",
    "for target_label in tracks_2021:\n",
    "    dict_2021[target_label] = df_2021.filter(pl.col(\"Track\").str.contains(target_label)).shape[0]\n",
    "\n",
    "sorted_keys_2021 = sorted(dict_2021, key=dict_2021.get, reverse=True)"
   ]
  },
  {
   "cell_type": "code",
   "execution_count": 30,
   "id": "dccadbaa-b9bc-47a4-b4f0-debf65e08eac",
   "metadata": {},
   "outputs": [
    {
     "name": "stdout",
     "output_type": "stream",
     "text": [
      "Cloud & Platform Security 25\n",
      "Exploit Development 23\n",
      "Reverse Engineering 18\n",
      "Hardware / Embedded 15\n",
      "Human Factors 14\n",
      "Network Security 13\n",
      "AppSec 12\n",
      "Applied Security 12\n",
      "Data Forensics & Incident Response 12\n",
      "Defense 12\n",
      "Malware 12\n",
      "Community 10\n",
      "CorpSec 10\n",
      "Cyber-Physical Systems 10\n",
      "Policy 10\n",
      "Mobile 9\n",
      "AI, ML, & Data Science 8\n",
      "Cryptography 8\n",
      "Keynote 4\n"
     ]
    }
   ],
   "source": [
    "sum_2021 = 0\n",
    "for a in sorted_keys_2021:\n",
    "    print(a, dict_2021[a])\n",
    "    sum_2021 += dict_2021[a]"
   ]
  },
  {
   "cell_type": "code",
   "execution_count": 29,
   "id": "d2ec635d-0d2f-45e0-a9dd-7e1f2cd38acb",
   "metadata": {},
   "outputs": [
    {
     "data": {
      "text/html": [
       "<div><style>\n",
       ".dataframe > thead > tr > th,\n",
       ".dataframe > tbody > tr > td {\n",
       "  text-align: right;\n",
       "}\n",
       "</style>\n",
       "<small>shape: (5, 8)</small><table border=\"1\" class=\"dataframe\"><thead><tr><th>Main</th><th>Speaker</th><th>Track</th><th>Location</th><th>Date</th><th>Time</th><th>Format</th><th>Experience</th></tr><tr><td>str</td><td>str</td><td>str</td><td>str</td><td>str</td><td>str</td><td>str</td><td>str</td></tr></thead><tbody><tr><td>&quot;Breakfast&quot;</td><td>&quot;&quot;</td><td>&quot;&quot;</td><td>&quot; Shoreline (So…</td><td>&quot;WEDNESDAY &quot;</td><td>&quot; 8:00AM&quot;</td><td>null</td><td>null</td></tr><tr><td>&quot; Black Hat at …</td><td>&quot; Chris Krebs&quot;</td><td>&quot;  Keynote&quot;</td><td>&quot; Oceanside (Le…</td><td>&quot;WEDNESDAY &quot;</td><td>&quot; 9:00AM&quot;</td><td>&quot; 60-Minute Key…</td><td>null</td></tr><tr><td>&quot;AAD Joined Mac…</td><td>&quot; Mor Rubin&quot;</td><td>&quot;  Cloud &amp; Plat…</td><td>&quot; Lagoon HI (Le…</td><td>&quot;WEDNESDAY &quot;</td><td>&quot; 10:20AM&quot;</td><td>&quot; 40-Minute Bri…</td><td>null</td></tr><tr><td>&quot;All Your GNN M…</td><td>&quot; Yang Zhang, A…</td><td>&quot;  AI, ML, &amp; Da…</td><td>&quot; Jasmine (Leve…</td><td>&quot;WEDNESDAY &quot;</td><td>&quot; 10:20AM&quot;</td><td>&quot; 40-Minute Bri…</td><td>&quot; In-Person/Vir…</td></tr><tr><td>&quot;Automatic Prot…</td><td>&quot; Gabi Nakibly,…</td><td>&quot;  Network Secu…</td><td>&quot; Lagoon KL (Le…</td><td>&quot;WEDNESDAY &quot;</td><td>&quot; 10:20AM&quot;</td><td>&quot; 40-Minute Bri…</td><td>&quot; In-Person/Vir…</td></tr></tbody></table></div>"
      ],
      "text/plain": [
       "shape: (5, 8)\n",
       "┌────────────┬────────────┬────────────┬────────────┬────────────┬──────────┬───────────┬──────────┐\n",
       "│ Main       ┆ Speaker    ┆ Track      ┆ Location   ┆ Date       ┆ Time     ┆ Format    ┆ Experien │\n",
       "│ ---        ┆ ---        ┆ ---        ┆ ---        ┆ ---        ┆ ---      ┆ ---       ┆ ce       │\n",
       "│ str        ┆ str        ┆ str        ┆ str        ┆ str        ┆ str      ┆ str       ┆ ---      │\n",
       "│            ┆            ┆            ┆            ┆            ┆          ┆           ┆ str      │\n",
       "╞════════════╪════════════╪════════════╪════════════╪════════════╪══════════╪═══════════╪══════════╡\n",
       "│ Breakfast  ┆            ┆            ┆ Shoreline  ┆ WEDNESDAY  ┆  8:00AM  ┆ null      ┆ null     │\n",
       "│            ┆            ┆            ┆ (South     ┆            ┆          ┆           ┆          │\n",
       "│            ┆            ┆            ┆ Convention ┆            ┆          ┆           ┆          │\n",
       "│            ┆            ┆            ┆ Cen…       ┆            ┆          ┆           ┆          │\n",
       "│ Black Hat  ┆ Chris      ┆   Keynote  ┆ Oceanside  ┆ WEDNESDAY  ┆  9:00AM  ┆ 60-Minute ┆ null     │\n",
       "│ at 25:     ┆ Krebs      ┆            ┆ (Level 2)  ┆            ┆          ┆ Keynote   ┆          │\n",
       "│ Where Do   ┆            ┆            ┆            ┆            ┆          ┆           ┆          │\n",
       "│ We Go…     ┆            ┆            ┆            ┆            ┆          ┆           ┆          │\n",
       "│ AAD Joined ┆  Mor Rubin ┆ Cloud &    ┆ Lagoon HI  ┆ WEDNESDAY  ┆  10:20AM ┆ 40-Minute ┆ null     │\n",
       "│ Machines - ┆            ┆ Platform   ┆ (Level 2)  ┆            ┆          ┆ Briefings ┆          │\n",
       "│ The New    ┆            ┆ Security,  ┆            ┆            ┆          ┆           ┆          │\n",
       "│ La…        ┆            ┆ Ne…        ┆            ┆            ┆          ┆           ┆          │\n",
       "│ All Your   ┆ Yang       ┆ AI, ML, &  ┆ Jasmine    ┆ WEDNESDAY  ┆  10:20AM ┆ 40-Minute ┆ In-Perso │\n",
       "│ GNN Models ┆ Zhang,     ┆ Data       ┆ (Level 3)  ┆            ┆          ┆ Briefings ┆ n/Virtua │\n",
       "│ and Data   ┆ Azzedine   ┆ Science,   ┆            ┆            ┆          ┆           ┆ l        │\n",
       "│ Bel…       ┆ Benameur,  ┆ Priva…     ┆            ┆            ┆          ┆           ┆          │\n",
       "│            ┆ …          ┆            ┆            ┆            ┆          ┆           ┆          │\n",
       "│ Automatic  ┆ Gabi       ┆ Network    ┆ Lagoon KL  ┆ WEDNESDAY  ┆  10:20AM ┆ 40-Minute ┆ In-Perso │\n",
       "│ Protocol   ┆ Nakibly,   ┆ Security,  ┆ (Level 2)  ┆            ┆          ┆ Briefings ┆ n/Virtua │\n",
       "│ Reverse    ┆ Ron        ┆ Reverse    ┆            ┆            ┆          ┆           ┆ l        │\n",
       "│ Engin…     ┆ Marcovich  ┆ Eng…       ┆            ┆            ┆          ┆           ┆          │\n",
       "└────────────┴────────────┴────────────┴────────────┴────────────┴──────────┴───────────┴──────────┘"
      ]
     },
     "execution_count": 29,
     "metadata": {},
     "output_type": "execute_result"
    }
   ],
   "source": [
    "df_2022.head()"
   ]
  },
  {
   "cell_type": "code",
   "execution_count": 27,
   "id": "fb3c70b5-7d74-4f39-bda7-dee4b2ac7884",
   "metadata": {},
   "outputs": [
    {
     "name": "stdout",
     "output_type": "stream",
     "text": [
      "(131, 7)\n",
      "(101, 8)\n",
      "(109, 9)\n"
     ]
    }
   ],
   "source": [
    "print(df_2021.filter(pl.col(\"Track\") != \"\").shape)\n",
    "print(df_2022.filter(pl.col(\"Track\") != \"\").shape)\n",
    "print(df_2023.filter(pl.col(\"Track\") != \"\").shape)"
   ]
  },
  {
   "cell_type": "code",
   "execution_count": 28,
   "id": "b9f66b49-ac69-43e1-92ee-1507236faab4",
   "metadata": {},
   "outputs": [
    {
     "data": {
      "text/plain": [
       "(131, 7)"
      ]
     },
     "execution_count": 28,
     "metadata": {},
     "output_type": "execute_result"
    }
   ],
   "source": [
    "df_2021.shape"
   ]
  },
  {
   "cell_type": "code",
   "execution_count": null,
   "id": "f6e9d7ff-5846-4cca-bb6c-e6ef221517c6",
   "metadata": {},
   "outputs": [],
   "source": []
  }
 ],
 "metadata": {
  "kernelspec": {
   "display_name": "Python 3 (ipykernel)",
   "language": "python",
   "name": "python3"
  },
  "language_info": {
   "codemirror_mode": {
    "name": "ipython",
    "version": 3
   },
   "file_extension": ".py",
   "mimetype": "text/x-python",
   "name": "python",
   "nbconvert_exporter": "python",
   "pygments_lexer": "ipython3",
   "version": "3.9.17"
  }
 },
 "nbformat": 4,
 "nbformat_minor": 5
}
