{
 "cells": [
  {
   "cell_type": "code",
   "execution_count": 1,
   "id": "f96becde-24bb-4928-a84e-47f06993203a",
   "metadata": {
    "tags": []
   },
   "outputs": [],
   "source": [
    "from itertools import zip_longest\n",
    "import polars as pl\n",
    "from tqdm import tqdm"
   ]
  },
  {
   "cell_type": "code",
   "execution_count": 2,
   "id": "8bb772ca-9448-4988-9d77-24dfa5c6aff3",
   "metadata": {},
   "outputs": [],
   "source": [
    "def load2df(file):\n",
    "    with open(file) as fin:\n",
    "        lines = fin.readlines()\n",
    "        \n",
    "    records = []\n",
    "    tmp_record = {}\n",
    "    is_first = True\n",
    "    for line in tqdm(lines):\n",
    "        line = line.replace(\"\\n\", \"\")\n",
    "\n",
    "        first = (\"|\" in line)\n",
    "        second = line.startswith(\"WEDNESDAY\")\n",
    "        third = line.startswith(\"THURSDAY\")    \n",
    "\n",
    "        # print(first, second, third)\n",
    "        if first and (second or third):\n",
    "            DAY = line.split(\"|\")[0]\n",
    "            TIME = line.split(\"|\")[1]\n",
    "            continue\n",
    "\n",
    "        added_flag = False\n",
    "\n",
    "\n",
    "        for key in [\"Speaker:\",\"Track:\", \"Tracks:\", \"Format:\", \"Location:\", \"Contributor:\", \"Panelist:\", \"Keynote:\", \"Moderator:\", \"Experience:\"]:\n",
    "            if line.startswith(key):\n",
    "                assert key not in tmp_record, f\"{line}, {key} {tmp_record}\"\n",
    "                added_key = key[:-1]\n",
    "\n",
    "                if \"Contributor:\" == key:\n",
    "                    added_key = \"Speaker\"\n",
    "                if \"Tracks:\" == key:\n",
    "                    added_key = \"Track\"\n",
    "                if \"Moderator\" == key:\n",
    "                    added_key = \"Speaker\"\n",
    "                if \"Keynote:\" == key:\n",
    "                    added_key = \"Main\"\n",
    "                \n",
    "\n",
    "\n",
    "                tmp_record[added_key] = \":\".join(line.split(\":\")[1:])\n",
    "                added_flag = True\n",
    "\n",
    "        if not added_flag:\n",
    "            assert \"Main\" not in tmp_record, f\"{line} main {tmp_record}\"\n",
    "            tmp_record[\"Main\"] = line\n",
    "\n",
    "        if line.startswith(\"Location:\"):\n",
    "            tmp_record[\"Date\"]= DAY\n",
    "            tmp_record[\"Time\"]= TIME\n",
    "            records.append(tmp_record)\n",
    "\n",
    "            tmp_record = {}\n",
    "    return pl.DataFrame(records)\n",
    "\n",
    "def load_session(file):\n",
    "    with open(file, \"r\") as fin:\n",
    "        return [a.strip() for a in fin.readlines()]    "
   ]
  },
  {
   "cell_type": "code",
   "execution_count": 3,
   "id": "2e56a99a-e4e3-4623-82d1-5639ab0af652",
   "metadata": {
    "tags": []
   },
   "outputs": [
    {
     "name": "stderr",
     "output_type": "stream",
     "text": [
      "100%|██████████| 590/590 [00:00<00:00, 243088.35it/s]\n"
     ]
    }
   ],
   "source": [
    "df_2023 = load2df('2023_sessions.txt')\n",
    "tracks_2023 = load_session('2023_tracks.txt')"
   ]
  },
  {
   "cell_type": "code",
   "execution_count": 4,
   "id": "19e64c38-03ab-4930-9aff-73fd00bc7af2",
   "metadata": {},
   "outputs": [],
   "source": [
    "dict_2023={}\n",
    "for target_label in tracks_2023:\n",
    "    dict_2023[target_label] = df_2023.filter(pl.col(\"Track\").str.contains(target_label)).shape[0]\n",
    "\n",
    "sorted_keys_2023 = sorted(dict_2023, key=dict_2023.get, reverse=True)"
   ]
  },
  {
   "cell_type": "code",
   "execution_count": 5,
   "id": "d77d75fd-f3f2-4614-9ba7-b9de63e73b7a",
   "metadata": {},
   "outputs": [
    {
     "name": "stdout",
     "output_type": "stream",
     "text": [
      "Defense 17\n",
      "AI, ML, & Data Science 15\n",
      "Exploit Development 14\n",
      "Application Security: Offense 13\n",
      "Enterprise Security 13\n",
      "Hardware / Embedded 12\n",
      "Application Security: Defense 11\n",
      "Cloud Security 11\n",
      "Data Forensics & Incident Response 11\n",
      "Network Security 10\n",
      "Platform Security 10\n",
      "Cyber-Physical Systems & IoT 9\n",
      "Mobile 8\n",
      "Reverse Engineering 8\n",
      "Cryptography 7\n",
      "Malware 7\n",
      "Policy 6\n",
      "Human Factors 5\n",
      "Cyber Insurance 4\n",
      "Entrepreneur 4\n",
      "Privacy 4\n",
      "Community & Career 3\n",
      "Keynote 3\n"
     ]
    }
   ],
   "source": [
    "for a in sorted_keys_2023:\n",
    "    print(a, dict_2023[a])"
   ]
  },
  {
   "cell_type": "markdown",
   "id": "f64ae959-cfdb-4fea-a8ad-849bc050ff54",
   "metadata": {},
   "source": [
    "AI, ML, & Data Science: 5 -> 15\n",
    "    - \n",
    "    - \n",
    "\n",
    "Application Security: 17 → 24\n",
    "Enterprise Sesecurity: 17 → 24\n",
    "Data Forensics & Incident Response: 4 → 11 \n",
    "\n",
    "Cyber insurance: 新規軸\n",
    "    -　\n",
    "\n"
   ]
  },
  {
   "cell_type": "code",
   "execution_count": 6,
   "id": "dd3a39f5-ceef-479a-85f1-d11723d9e31a",
   "metadata": {},
   "outputs": [
    {
     "name": "stderr",
     "output_type": "stream",
     "text": [
      "100%|██████████| 659/659 [00:00<00:00, 151446.30it/s]\n"
     ]
    }
   ],
   "source": [
    "df_2022 = load2df('2022_sessions.txt')\n",
    "tracks_2022 = load_session('2022_tracks.txt')"
   ]
  },
  {
   "cell_type": "code",
   "execution_count": 7,
   "id": "b0925105-56fa-4629-bb9e-b13798eb5c76",
   "metadata": {},
   "outputs": [],
   "source": [
    "dict_2022={}\n",
    "for target_label in tracks_2022:\n",
    "    dict_2022[target_label] = df_2022.filter(pl.col(\"Track\").str.contains(target_label)).shape[0]\n",
    "\n",
    "sorted_keys_2022 = sorted(dict_2022, key=dict_2022.get, reverse=True)"
   ]
  },
  {
   "cell_type": "code",
   "execution_count": 8,
   "id": "ade2297c-a52c-4c4e-9291-a6a1b63dfa48",
   "metadata": {},
   "outputs": [
    {
     "name": "stdout",
     "output_type": "stream",
     "text": [
      "Cloud & Platform Security 21\n",
      "Application Security 17\n",
      "Defense 15\n",
      "Exploit Development 15\n",
      "Hardware / Embedded 14\n",
      "Reverse Engineering 13\n",
      "Network Security 12\n",
      "Lessons Learned 9\n",
      "Malware 9\n",
      "Mobile 9\n",
      "Enterprise Security 7\n",
      "Cyber-Physical Systems 6\n",
      "Human Factors 6\n",
      "Policy 6\n",
      "AI, ML, & Data Science 5\n",
      "Cryptography 5\n",
      "Privacy 5\n",
      "Community & Career 4\n",
      "Data Forensics & Incident Response 4\n",
      "Keynote 3\n"
     ]
    }
   ],
   "source": [
    "for a in sorted_keys_2022:\n",
    "    print(a, dict_2022[a])"
   ]
  },
  {
   "cell_type": "code",
   "execution_count": 14,
   "id": "0a0a0b48-1470-42bc-a9b3-b7eaee30a12c",
   "metadata": {},
   "outputs": [],
   "source": [
    "a = set(sorted_keys_2023)\n",
    "b = set(sorted_keys_2022)"
   ]
  },
  {
   "cell_type": "code",
   "execution_count": 17,
   "id": "6ca28fee-f313-4e03-b5a0-1061892190c2",
   "metadata": {},
   "outputs": [
    {
     "data": {
      "text/plain": [
       "{'Application Security: Defense',\n",
       " 'Application Security: Offense',\n",
       " 'Cloud Security',\n",
       " 'Cyber Insurance',\n",
       " 'Cyber-Physical Systems & IoT',\n",
       " 'Entrepreneur',\n",
       " 'Platform Security'}"
      ]
     },
     "execution_count": 17,
     "metadata": {},
     "output_type": "execute_result"
    }
   ],
   "source": [
    "a - b"
   ]
  },
  {
   "cell_type": "code",
   "execution_count": 16,
   "id": "e73de248-29ce-4bc7-98fe-a337145a0117",
   "metadata": {},
   "outputs": [
    {
     "data": {
      "text/plain": [
       "{'AI, ML, & Data Science',\n",
       " 'Application Security',\n",
       " 'Cloud & Platform Security',\n",
       " 'Community & Career',\n",
       " 'Cryptography',\n",
       " 'Cyber-Physical Systems',\n",
       " 'Data Forensics & Incident Response',\n",
       " 'Defense',\n",
       " 'Enterprise Security',\n",
       " 'Exploit Development',\n",
       " 'Hardware / Embedded',\n",
       " 'Human Factors',\n",
       " 'Keynote',\n",
       " 'Lessons Learned',\n",
       " 'Malware',\n",
       " 'Mobile',\n",
       " 'Network Security',\n",
       " 'Policy',\n",
       " 'Privacy',\n",
       " 'Reverse Engineering'}"
      ]
     },
     "execution_count": 16,
     "metadata": {},
     "output_type": "execute_result"
    }
   ],
   "source": [
    "b"
   ]
  },
  {
   "cell_type": "code",
   "execution_count": null,
   "id": "a62f3f65-07d5-430d-8106-63a1b2510a17",
   "metadata": {},
   "outputs": [],
   "source": []
  }
 ],
 "metadata": {
  "kernelspec": {
   "display_name": "Python 3 (ipykernel)",
   "language": "python",
   "name": "python3"
  },
  "language_info": {
   "codemirror_mode": {
    "name": "ipython",
    "version": 3
   },
   "file_extension": ".py",
   "mimetype": "text/x-python",
   "name": "python",
   "nbconvert_exporter": "python",
   "pygments_lexer": "ipython3",
   "version": "3.9.17"
  }
 },
 "nbformat": 4,
 "nbformat_minor": 5
}
