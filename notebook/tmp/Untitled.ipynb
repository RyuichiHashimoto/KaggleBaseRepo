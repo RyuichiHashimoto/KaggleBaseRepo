{
 "cells": [
  {
   "cell_type": "code",
   "execution_count": 1,
   "id": "f96becde-24bb-4928-a84e-47f06993203a",
   "metadata": {
    "tags": []
   },
   "outputs": [],
   "source": [
    "from itertools import zip_longest\n",
    "import polars as pl"
   ]
  },
  {
   "cell_type": "code",
   "execution_count": 2,
   "id": "5bda432b-91a5-49ac-a0df-a681cc008616",
   "metadata": {
    "tags": []
   },
   "outputs": [],
   "source": [
    "with open(\"2023_sessions.txt\") as fin:\n",
    "    lines = fin.readlines()"
   ]
  },
  {
   "cell_type": "code",
   "execution_count": 3,
   "id": "bbb33b39-65d5-421b-b485-1dc96ad30c31",
   "metadata": {
    "tags": []
   },
   "outputs": [],
   "source": [
    "from tqdm import tqdm"
   ]
  },
  {
   "cell_type": "code",
   "execution_count": 4,
   "id": "2e56a99a-e4e3-4623-82d1-5639ab0af652",
   "metadata": {
    "tags": []
   },
   "outputs": [
    {
     "name": "stderr",
     "output_type": "stream",
     "text": [
      "100%|██████████| 590/590 [00:00<00:00, 176394.57it/s]"
     ]
    },
    {
     "name": "stdout",
     "output_type": "stream",
     "text": [
      "asdf\n",
      "Keynote: Guardians of the AI Era: Navigating the Cybersecurity Landscape of Tomorrow\n",
      "asdf\n",
      "Keynote: Phoenix Soaring: What We Can Learn from Ukraine's Cyber Defenders about Building a More Resilient Future\n",
      "asdf\n",
      "Keynote: Acting National Cyber Director Kemba Walden Discusses the National Cybersecurity Strategy and Workforce Efforts\n"
     ]
    },
    {
     "name": "stderr",
     "output_type": "stream",
     "text": [
      "\n"
     ]
    }
   ],
   "source": [
    "records = []\n",
    "tmp_record = {}\n",
    "is_first = True\n",
    "for line in tqdm(lines):\n",
    "    line = line.replace(\"\\n\", \"\")\n",
    "    \n",
    "    first = (\"|\" in line)\n",
    "    second = line.startswith(\"WEDNESDAY\")\n",
    "    third = line.startswith(\"THURSDAY\")    \n",
    "    \n",
    "    # print(first, second, third)\n",
    "    if first and (second or third):\n",
    "        DAY = line.split(\"|\")[0]\n",
    "        TIME = line.split(\"|\")[1]\n",
    "        continue\n",
    "        \n",
    "    added_flag = False\n",
    "    \n",
    "    \n",
    "    for key in [\"Speaker:\",\"Track:\", \"Tracks:\", \"Format:\", \"Location:\", \"Contributor:\", \"Panelist:\", \"Keynote:\", \"Moderator:\", \"Experience:\"]:\n",
    "        if line.startswith(key):\n",
    "            assert key not in tmp_record, f\"{line}, {key} {tmp_record}\"\n",
    "            added_key = key[:-1]\n",
    "            \n",
    "            if \"Contributor:\" == key:\n",
    "                added_key = \"Speaker\"\n",
    "            if \"Tracks:\" == key:\n",
    "                added_key = \"Track\"\n",
    "            if \"Moderator\" == key:\n",
    "                added_key = \"Speaker\"\n",
    "            if \"Keynote:\" == key:\n",
    "                print(\"asdf\")\n",
    "                print(line)\n",
    "                added_key = \"Main\"\n",
    "            \n",
    "            \n",
    "            tmp_record[added_key] = \":\".join(line.split(\":\")[1:])\n",
    "            added_flag = True\n",
    "        \n",
    "    if not added_flag:\n",
    "        assert \"Main\" not in tmp_record, f\"{line} main {tmp_record}\"\n",
    "        tmp_record[\"Main\"] = line\n",
    "        \n",
    "    if line.startswith(\"Location:\"):\n",
    "        tmp_record[\"Date\"]= DAY\n",
    "        tmp_record[\"Time\"]= TIME\n",
    "        records.append(tmp_record)\n",
    "        \n",
    "        tmp_record = {}\n",
    "        \n",
    "        \n",
    "    \n",
    "        "
   ]
  },
  {
   "cell_type": "code",
   "execution_count": 5,
   "id": "b92b0da8-afe5-4ef9-9cb1-53cd0a66327c",
   "metadata": {
    "tags": []
   },
   "outputs": [],
   "source": [
    "df = pl.DataFrame(records)"
   ]
  },
  {
   "cell_type": "code",
   "execution_count": 6,
   "id": "469bb384-3fbe-4c2a-a1f8-b7d941a61e36",
   "metadata": {
    "tags": []
   },
   "outputs": [
    {
     "data": {
      "text/html": [
       "<div><style>\n",
       ".dataframe > thead > tr > th,\n",
       ".dataframe > tbody > tr > td {\n",
       "  text-align: right;\n",
       "}\n",
       "</style>\n",
       "<small>shape: (5, 9)</small><table border=\"1\" class=\"dataframe\"><thead><tr><th>Main</th><th>Track</th><th>Location</th><th>Date</th><th>Time</th><th>Speaker</th><th>Format</th><th>Panelist</th><th>Moderator</th></tr><tr><td>str</td><td>str</td><td>str</td><td>str</td><td>str</td><td>str</td><td>str</td><td>str</td><td>str</td></tr></thead><tbody><tr><td>&quot;Wednesday Brie…</td><td>&quot;&quot;</td><td>&quot; Bayside DE, L…</td><td>&quot;WEDNESDAY &quot;</td><td>&quot; 8:00AM&quot;</td><td>null</td><td>null</td><td>null</td><td>null</td></tr><tr><td>&quot; Guardians of …</td><td>&quot;  Keynote&quot;</td><td>&quot; Shoreline Bal…</td><td>&quot;WEDNESDAY &quot;</td><td>&quot; 9:00AM&quot;</td><td>&quot; Maria Markste…</td><td>&quot; 60-Minute Key…</td><td>null</td><td>null</td></tr><tr><td>&quot;A Pain in the …</td><td>&quot;  Cloud Securi…</td><td>&quot; Oceanside C, …</td><td>&quot;WEDNESDAY &quot;</td><td>&quot; 10:20AM&quot;</td><td>&quot; Noam Moshe, S…</td><td>&quot; 40-Minute Bri…</td><td>null</td><td>null</td></tr><tr><td>&quot;Chained to Hit…</td><td>&quot;  Enterprise S…</td><td>&quot; Islander HI, …</td><td>&quot;WEDNESDAY &quot;</td><td>&quot; 10:20AM&quot;</td><td>&quot; Yvan Genuer, …</td><td>&quot; 40-Minute Bri…</td><td>null</td><td>null</td></tr><tr><td>&quot;Civil Cyber De…</td><td>&quot;  Community &amp; …</td><td>&quot; Jasmine AE, L…</td><td>&quot;WEDNESDAY &quot;</td><td>&quot; 10:20AM&quot;</td><td>&quot; Tiffany Rad, …</td><td>&quot; 40-Minute Bri…</td><td>null</td><td>null</td></tr></tbody></table></div>"
      ],
      "text/plain": [
       "shape: (5, 9)\n",
       "┌───────────┬───────────┬───────────┬───────────┬───┬───────────┬───────────┬──────────┬───────────┐\n",
       "│ Main      ┆ Track     ┆ Location  ┆ Date      ┆ … ┆ Speaker   ┆ Format    ┆ Panelist ┆ Moderator │\n",
       "│ ---       ┆ ---       ┆ ---       ┆ ---       ┆   ┆ ---       ┆ ---       ┆ ---      ┆ ---       │\n",
       "│ str       ┆ str       ┆ str       ┆ str       ┆   ┆ str       ┆ str       ┆ str      ┆ str       │\n",
       "╞═══════════╪═══════════╪═══════════╪═══════════╪═══╪═══════════╪═══════════╪══════════╪═══════════╡\n",
       "│ Wednesday ┆           ┆ Bayside   ┆ WEDNESDAY ┆ … ┆ null      ┆ null      ┆ null     ┆ null      │\n",
       "│ Briefings ┆           ┆ DE, Level ┆           ┆   ┆           ┆           ┆          ┆           │\n",
       "│ Breakfast ┆           ┆ 1         ┆           ┆   ┆           ┆           ┆          ┆           │\n",
       "│ Guardians ┆   Keynote ┆ Shoreline ┆ WEDNESDAY ┆ … ┆ Maria Mar ┆ 60-Minute ┆ null     ┆ null      │\n",
       "│ of the AI ┆           ┆ Ballroom, ┆           ┆   ┆ kstedter  ┆ Keynote   ┆          ┆           │\n",
       "│ Era:      ┆           ┆ Level 2   ┆           ┆   ┆           ┆           ┆          ┆           │\n",
       "│ Naviga…   ┆           ┆           ┆           ┆   ┆           ┆           ┆          ┆           │\n",
       "│ A Pain in ┆ Cloud     ┆ Oceanside ┆ WEDNESDAY ┆ … ┆ Noam      ┆ 40-Minute ┆ null     ┆ null      │\n",
       "│ the NAS:  ┆ Security, ┆ C, Level  ┆           ┆   ┆ Moshe,    ┆ Briefings ┆          ┆           │\n",
       "│ Exploitin ┆ Cyber-Phy ┆ 2         ┆           ┆   ┆ Speaker:  ┆           ┆          ┆           │\n",
       "│ g Cl…     ┆ sica…     ┆           ┆           ┆   ┆ Sharon    ┆           ┆          ┆           │\n",
       "│           ┆           ┆           ┆           ┆   ┆ Bri…      ┆           ┆          ┆           │\n",
       "│ Chained   ┆ Enterpris ┆ Islander  ┆ WEDNESDAY ┆ … ┆ Yvan      ┆ 40-Minute ┆ null     ┆ null      │\n",
       "│ to Hit:   ┆ e         ┆ HI, Level ┆           ┆   ┆ Genuer,   ┆ Briefings ┆          ┆           │\n",
       "│ Discoveri ┆ Security, ┆ 0         ┆           ┆   ┆ Speaker:  ┆           ┆          ┆           │\n",
       "│ ng New …  ┆ Applicat… ┆           ┆           ┆   ┆ Pablo     ┆           ┆          ┆           │\n",
       "│           ┆           ┆           ┆           ┆   ┆ Art…      ┆           ┆          ┆           │\n",
       "│ Civil     ┆ Community ┆ Jasmine   ┆ WEDNESDAY ┆ … ┆ Tiffany   ┆ 40-Minute ┆ null     ┆ null      │\n",
       "│ Cyber     ┆ & Career, ┆ AE, Level ┆           ┆   ┆ Rad,      ┆ Briefings ┆          ┆           │\n",
       "│ Defense:  ┆ Privacy   ┆ 3         ┆           ┆   ┆ Speaker:  ┆           ┆          ┆           │\n",
       "│ Use Your  ┆           ┆           ┆           ┆   ┆ Austin    ┆           ┆          ┆           │\n",
       "│ Re…       ┆           ┆           ┆           ┆   ┆ Sh…       ┆           ┆          ┆           │\n",
       "└───────────┴───────────┴───────────┴───────────┴───┴───────────┴───────────┴──────────┴───────────┘"
      ]
     },
     "execution_count": 6,
     "metadata": {},
     "output_type": "execute_result"
    }
   ],
   "source": [
    "df.head()"
   ]
  },
  {
   "cell_type": "code",
   "execution_count": 7,
   "id": "d499f3ba-a7a8-4a70-bffe-7261a674281e",
   "metadata": {
    "tags": []
   },
   "outputs": [],
   "source": [
    "cols =[\"Date\", \"Time\",\"Main\" ,\"Speaker\", \"Track\", \"Location\"]"
   ]
  },
  {
   "cell_type": "code",
   "execution_count": 8,
   "id": "10bb3ac8-7f46-4ca3-b48f-7709da98d70a",
   "metadata": {
    "tags": []
   },
   "outputs": [],
   "source": [
    "df = df.with_columns(df[\"Location\"].apply(lambda x: x.replace(\",\", \" \"), return_dtype=str).alias(\"Location\"))"
   ]
  },
  {
   "cell_type": "code",
   "execution_count": 9,
   "id": "8a0691e1-1546-4add-b119-ed9acd8d6f05",
   "metadata": {
    "tags": []
   },
   "outputs": [
    {
     "data": {
      "text/html": [
       "<div><style>\n",
       ".dataframe > thead > tr > th,\n",
       ".dataframe > tbody > tr > td {\n",
       "  text-align: right;\n",
       "}\n",
       "</style>\n",
       "<small>shape: (117, 6)</small><table border=\"1\" class=\"dataframe\"><thead><tr><th>Date</th><th>Time</th><th>Main</th><th>Speaker</th><th>Track</th><th>Location</th></tr><tr><td>str</td><td>str</td><td>str</td><td>str</td><td>str</td><td>str</td></tr></thead><tbody><tr><td>&quot;WEDNESDAY &quot;</td><td>&quot; 8:00AM&quot;</td><td>&quot;Wednesday Brie…</td><td>null</td><td>&quot;&quot;</td><td>&quot; Bayside DE  L…</td></tr><tr><td>&quot;WEDNESDAY &quot;</td><td>&quot; 9:00AM&quot;</td><td>&quot; Guardians of …</td><td>&quot; Maria Markste…</td><td>&quot;  Keynote&quot;</td><td>&quot; Shoreline Bal…</td></tr><tr><td>&quot;WEDNESDAY &quot;</td><td>&quot; 10:20AM&quot;</td><td>&quot;A Pain in the …</td><td>&quot; Noam Moshe, S…</td><td>&quot;  Cloud Securi…</td><td>&quot; Oceanside C  …</td></tr><tr><td>&quot;WEDNESDAY &quot;</td><td>&quot; 10:20AM&quot;</td><td>&quot;Chained to Hit…</td><td>&quot; Yvan Genuer, …</td><td>&quot;  Enterprise S…</td><td>&quot; Islander HI  …</td></tr><tr><td>&quot;WEDNESDAY &quot;</td><td>&quot; 10:20AM&quot;</td><td>&quot;Civil Cyber De…</td><td>&quot; Tiffany Rad, …</td><td>&quot;  Community &amp; …</td><td>&quot; Jasmine AE  L…</td></tr><tr><td>&quot;WEDNESDAY &quot;</td><td>&quot; 10:20AM&quot;</td><td>&quot;Core Escalatio…</td><td>&quot; Guanxing Wen&quot;</td><td>&quot;  Mobile,  Exp…</td><td>&quot; South Seas AB…</td></tr><tr><td>&quot;WEDNESDAY &quot;</td><td>&quot; 10:20AM&quot;</td><td>&quot;Defender-Prete…</td><td>&quot; Tomer Bar, Sp…</td><td>&quot;  Platform Sec…</td><td>&quot; Mandalay Bay …</td></tr><tr><td>&quot;WEDNESDAY &quot;</td><td>&quot; 10:20AM&quot;</td><td>&quot;Devising and D…</td><td>&quot; Fredrik Heidi…</td><td>&quot;  Human Factor…</td><td>&quot; South Seas CD…</td></tr><tr><td>&quot;WEDNESDAY &quot;</td><td>&quot; 10:20AM&quot;</td><td>&quot;Reflections on…</td><td>&quot; Jeremy Long&quot;</td><td>&quot;  Application …</td><td>&quot; Islander FG  …</td></tr><tr><td>&quot;WEDNESDAY &quot;</td><td>&quot; 10:20AM&quot;</td><td>&quot;Smashing the S…</td><td>&quot; James Kettle&quot;</td><td>&quot;  Application …</td><td>&quot; Oceanside A  …</td></tr><tr><td>&quot;WEDNESDAY &quot;</td><td>&quot; 10:20AM&quot;</td><td>&quot;Video-Based Cr…</td><td>&quot; Ben Nassi, Sp…</td><td>&quot;  Hardware / E…</td><td>&quot; South Pacific…</td></tr><tr><td>&quot;WEDNESDAY &quot;</td><td>&quot; 11:00AM&quot;</td><td>&quot;Briefings Morn…</td><td>null</td><td>&quot;&quot;</td><td>&quot; Briefings Are…</td></tr><tr><td>&hellip;</td><td>&hellip;</td><td>&hellip;</td><td>&hellip;</td><td>&hellip;</td><td>&hellip;</td></tr><tr><td>&quot;THURSDAY &quot;</td><td>&quot; 3:20PM&quot;</td><td>&quot;Poisoning Web-…</td><td>&quot; Will Pearce&quot;</td><td>&quot;  AI, ML, &amp; Da…</td><td>&quot; Oceanside A  …</td></tr><tr><td>&quot;THURSDAY &quot;</td><td>&quot; 3:20PM&quot;</td><td>&quot;Seeing Through…</td><td>&quot; Ruben Santama…</td><td>&quot;  Data Forensi…</td><td>&quot; Oceanside C  …</td></tr><tr><td>&quot;THURSDAY &quot;</td><td>&quot; 3:20PM&quot;</td><td>&quot;The Hat Trick:…</td><td>&quot; Nan Wang, Spe…</td><td>&quot;  Exploit Deve…</td><td>&quot; South Pacific…</td></tr><tr><td>&quot;THURSDAY &quot;</td><td>&quot; 3:20PM&quot;</td><td>&quot;The Living Dea…</td><td>&quot; Xianbo Wang, …</td><td>&quot;  Application …</td><td>&quot; South Seas CD…</td></tr><tr><td>&quot;THURSDAY &quot;</td><td>&quot; 4:20PM&quot;</td><td>&quot;CoDe16; 16 Zer…</td><td>&quot; Vladimir Elie…</td><td>&quot;  Cyber-Physic…</td><td>&quot; Mandalay Bay …</td></tr><tr><td>&quot;THURSDAY &quot;</td><td>&quot; 4:20PM&quot;</td><td>&quot;Compromising L…</td><td>&quot; Kai Greshake,…</td><td>&quot;  AI, ML, &amp; Da…</td><td>&quot; Oceanside C  …</td></tr><tr><td>&quot;THURSDAY &quot;</td><td>&quot; 4:20PM&quot;</td><td>&quot;Kids in the Ad…</td><td>&quot; Zach Edwards&quot;</td><td>&quot;  Human Factor…</td><td>&quot; South Seas AB…</td></tr><tr><td>&quot;THURSDAY &quot;</td><td>&quot; 4:20PM&quot;</td><td>&quot;Make KSMA Grea…</td><td>&quot; Yong Wang&quot;</td><td>&quot;  Exploit Deve…</td><td>&quot; South Seas CD…</td></tr><tr><td>&quot;THURSDAY &quot;</td><td>&quot; 4:20PM&quot;</td><td>&quot;ODDFuzz: Hunti…</td><td>&quot; Biao He, Spea…</td><td>&quot;  Application …</td><td>&quot; Islander FG  …</td></tr><tr><td>&quot;THURSDAY &quot;</td><td>&quot; 4:20PM&quot;</td><td>&quot;The 9th Annual…</td><td>&quot; Neil Wyler, S…</td><td>&quot;  Network Secu…</td><td>&quot; Oceanside A  …</td></tr><tr><td>&quot;THURSDAY &quot;</td><td>&quot; 4:20PM&quot;</td><td>&quot;The Yandex Lea…</td><td>&quot; Kaileigh McCr…</td><td>&quot;  Privacy&quot;</td><td>&quot; Islander HI  …</td></tr><tr><td>&quot;THURSDAY &quot;</td><td>&quot; 4:20PM&quot;</td><td>&quot;Zero-Touch-Pwn…</td><td>&quot; Moritz Abrell…</td><td>&quot;  Reverse Engi…</td><td>&quot; South Pacific…</td></tr></tbody></table></div>"
      ],
      "text/plain": [
       "shape: (117, 6)\n",
       "┌────────────┬──────────┬──────────────────┬──────────────────┬──────────────────┬─────────────────┐\n",
       "│ Date       ┆ Time     ┆ Main             ┆ Speaker          ┆ Track            ┆ Location        │\n",
       "│ ---        ┆ ---      ┆ ---              ┆ ---              ┆ ---              ┆ ---             │\n",
       "│ str        ┆ str      ┆ str              ┆ str              ┆ str              ┆ str             │\n",
       "╞════════════╪══════════╪══════════════════╪══════════════════╪══════════════════╪═════════════════╡\n",
       "│ WEDNESDAY  ┆  8:00AM  ┆ Wednesday        ┆ null             ┆                  ┆ Bayside DE      │\n",
       "│            ┆          ┆ Briefings        ┆                  ┆                  ┆ Level 1         │\n",
       "│            ┆          ┆ Breakfast        ┆                  ┆                  ┆                 │\n",
       "│ WEDNESDAY  ┆  9:00AM  ┆ Guardians of the ┆ Maria            ┆   Keynote        ┆ Shoreline       │\n",
       "│            ┆          ┆ AI Era: Naviga…  ┆ Markstedter      ┆                  ┆ Ballroom  Level │\n",
       "│            ┆          ┆                  ┆                  ┆                  ┆ 2               │\n",
       "│ WEDNESDAY  ┆  10:20AM ┆ A Pain in the    ┆ Noam Moshe,      ┆ Cloud Security,  ┆ Oceanside C     │\n",
       "│            ┆          ┆ NAS: Exploiting  ┆ Speaker: Sharon  ┆ Cyber-Physica…   ┆ Level 2         │\n",
       "│            ┆          ┆ Cl…              ┆ Bri…             ┆                  ┆                 │\n",
       "│ WEDNESDAY  ┆  10:20AM ┆ Chained to Hit:  ┆ Yvan Genuer,     ┆ Enterprise       ┆ Islander HI     │\n",
       "│            ┆          ┆ Discovering New  ┆ Speaker: Pablo   ┆ Security,        ┆ Level 0         │\n",
       "│            ┆          ┆ …                ┆ Art…             ┆ Applicat…        ┆                 │\n",
       "│ …          ┆ …        ┆ …                ┆ …                ┆ …                ┆ …               │\n",
       "│ THURSDAY   ┆  4:20PM  ┆ ODDFuzz: Hunting ┆ Biao He,         ┆ Application      ┆ Islander FG     │\n",
       "│            ┆          ┆ Java Deserializ… ┆ Speaker: Haowen  ┆ Security:        ┆ Level 0         │\n",
       "│            ┆          ┆                  ┆ Mu, Co…          ┆ Offense          ┆                 │\n",
       "│ THURSDAY   ┆  4:20PM  ┆ The 9th Annual   ┆ Neil Wyler,      ┆ Network          ┆ Oceanside A     │\n",
       "│            ┆          ┆ Black Hat USA    ┆ Speaker: Bart    ┆ Security,        ┆ Level 2         │\n",
       "│            ┆          ┆ Net…             ┆ Stump            ┆ Application…     ┆                 │\n",
       "│ THURSDAY   ┆  4:20PM  ┆ The Yandex Leak: ┆  Kaileigh McCrea ┆   Privacy        ┆ Islander HI     │\n",
       "│            ┆          ┆ How a Russian S… ┆                  ┆                  ┆ Level 0         │\n",
       "│ THURSDAY   ┆  4:20PM  ┆ Zero-Touch-Pwn:  ┆  Moritz Abrell   ┆ Reverse          ┆ South Pacific F │\n",
       "│            ┆          ┆ Abusing Zoom's   ┆                  ┆ Engineering,     ┆ Level 0         │\n",
       "│            ┆          ┆ Z…               ┆                  ┆ Exploit …        ┆                 │\n",
       "└────────────┴──────────┴──────────────────┴──────────────────┴──────────────────┴─────────────────┘"
      ]
     },
     "execution_count": 9,
     "metadata": {},
     "output_type": "execute_result"
    }
   ],
   "source": [
    "df[cols]"
   ]
  },
  {
   "cell_type": "code",
   "execution_count": 10,
   "id": "9d756bcd-1984-468c-8158-d56b584e3de3",
   "metadata": {
    "tags": []
   },
   "outputs": [
    {
     "data": {
      "text/html": [
       "<div><style>\n",
       ".dataframe > thead > tr > th,\n",
       ".dataframe > tbody > tr > td {\n",
       "  text-align: right;\n",
       "}\n",
       "</style>\n",
       "<small>shape: (55, 9)</small><table border=\"1\" class=\"dataframe\"><thead><tr><th>Main</th><th>Track</th><th>Location</th><th>Date</th><th>Time</th><th>Speaker</th><th>Format</th><th>Panelist</th><th>Moderator</th></tr><tr><td>str</td><td>str</td><td>str</td><td>str</td><td>str</td><td>str</td><td>str</td><td>str</td><td>str</td></tr></thead><tbody><tr><td>&quot;Wednesday Brie…</td><td>&quot;&quot;</td><td>&quot; Bayside DE  L…</td><td>&quot;WEDNESDAY &quot;</td><td>&quot; 8:00AM&quot;</td><td>null</td><td>null</td><td>null</td><td>null</td></tr><tr><td>&quot; Guardians of …</td><td>&quot;  Keynote&quot;</td><td>&quot; Shoreline Bal…</td><td>&quot;WEDNESDAY &quot;</td><td>&quot; 9:00AM&quot;</td><td>&quot; Maria Markste…</td><td>&quot; 60-Minute Key…</td><td>null</td><td>null</td></tr><tr><td>&quot;A Pain in the …</td><td>&quot;  Cloud Securi…</td><td>&quot; Oceanside C  …</td><td>&quot;WEDNESDAY &quot;</td><td>&quot; 10:20AM&quot;</td><td>&quot; Noam Moshe, S…</td><td>&quot; 40-Minute Bri…</td><td>null</td><td>null</td></tr><tr><td>&quot;Chained to Hit…</td><td>&quot;  Enterprise S…</td><td>&quot; Islander HI  …</td><td>&quot;WEDNESDAY &quot;</td><td>&quot; 10:20AM&quot;</td><td>&quot; Yvan Genuer, …</td><td>&quot; 40-Minute Bri…</td><td>null</td><td>null</td></tr><tr><td>&quot;Civil Cyber De…</td><td>&quot;  Community &amp; …</td><td>&quot; Jasmine AE  L…</td><td>&quot;WEDNESDAY &quot;</td><td>&quot; 10:20AM&quot;</td><td>&quot; Tiffany Rad, …</td><td>&quot; 40-Minute Bri…</td><td>null</td><td>null</td></tr><tr><td>&quot;Core Escalatio…</td><td>&quot;  Mobile,  Exp…</td><td>&quot; South Seas AB…</td><td>&quot;WEDNESDAY &quot;</td><td>&quot; 10:20AM&quot;</td><td>&quot; Guanxing Wen&quot;</td><td>&quot; 40-Minute Bri…</td><td>null</td><td>null</td></tr><tr><td>&quot;Defender-Prete…</td><td>&quot;  Platform Sec…</td><td>&quot; Mandalay Bay …</td><td>&quot;WEDNESDAY &quot;</td><td>&quot; 10:20AM&quot;</td><td>&quot; Tomer Bar, Sp…</td><td>&quot; 40-Minute Bri…</td><td>null</td><td>null</td></tr><tr><td>&quot;Devising and D…</td><td>&quot;  Human Factor…</td><td>&quot; South Seas CD…</td><td>&quot;WEDNESDAY &quot;</td><td>&quot; 10:20AM&quot;</td><td>&quot; Fredrik Heidi…</td><td>&quot; 40-Minute Bri…</td><td>null</td><td>null</td></tr><tr><td>&quot;Reflections on…</td><td>&quot;  Application …</td><td>&quot; Islander FG  …</td><td>&quot;WEDNESDAY &quot;</td><td>&quot; 10:20AM&quot;</td><td>&quot; Jeremy Long&quot;</td><td>&quot; 40-Minute Bri…</td><td>null</td><td>null</td></tr><tr><td>&quot;Smashing the S…</td><td>&quot;  Application …</td><td>&quot; Oceanside A  …</td><td>&quot;WEDNESDAY &quot;</td><td>&quot; 10:20AM&quot;</td><td>&quot; James Kettle&quot;</td><td>&quot; 40-Minute Bri…</td><td>null</td><td>null</td></tr><tr><td>&quot;Video-Based Cr…</td><td>&quot;  Hardware / E…</td><td>&quot; South Pacific…</td><td>&quot;WEDNESDAY &quot;</td><td>&quot; 10:20AM&quot;</td><td>&quot; Ben Nassi, Sp…</td><td>&quot; 40-Minute Bri…</td><td>null</td><td>null</td></tr><tr><td>&quot;Briefings Morn…</td><td>&quot;&quot;</td><td>&quot; Briefings Are…</td><td>&quot;WEDNESDAY &quot;</td><td>&quot; 11:00AM&quot;</td><td>null</td><td>null</td><td>null</td><td>null</td></tr><tr><td>&hellip;</td><td>&hellip;</td><td>&hellip;</td><td>&hellip;</td><td>&hellip;</td><td>&hellip;</td><td>&hellip;</td><td>&hellip;</td><td>&hellip;</td></tr><tr><td>&quot;A SSLippery Sl…</td><td>&quot;  Platform Sec…</td><td>&quot; South Pacific…</td><td>&quot;WEDNESDAY &quot;</td><td>&quot; 3:20PM&quot;</td><td>&quot; Bill Demirkap…</td><td>&quot; 40-Minute Bri…</td><td>null</td><td>null</td></tr><tr><td>&quot;Bad io_uring: …</td><td>&quot;  Exploit Deve…</td><td>&quot; Jasmine AE  L…</td><td>&quot;WEDNESDAY &quot;</td><td>&quot; 3:20PM&quot;</td><td>&quot; Zhenpeng Lin,…</td><td>&quot; 40-Minute Bri…</td><td>null</td><td>null</td></tr><tr><td>&quot;Close Encounte…</td><td>&quot;  Malware,  Pl…</td><td>&quot; Mandalay Bay …</td><td>&quot;WEDNESDAY &quot;</td><td>&quot; 3:20PM&quot;</td><td>&quot; Ruben Boonen,…</td><td>&quot; 40-Minute Bri…</td><td>null</td><td>null</td></tr><tr><td>&quot;Dismantling DD…</td><td>&quot;  Defense,  Ne…</td><td>&quot; Islander FG  …</td><td>&quot;WEDNESDAY &quot;</td><td>&quot; 3:20PM&quot;</td><td>&quot; Elliott Peter…</td><td>&quot; 40-Minute Bri…</td><td>null</td><td>null</td></tr><tr><td>&quot;Diversity Micr…</td><td>&quot;  Community &amp; …</td><td>&quot; South Seas AB…</td><td>&quot;WEDNESDAY &quot;</td><td>&quot; 3:20PM&quot;</td><td>&quot; Andy Ellis, S…</td><td>&quot; 40-Minute Bri…</td><td>null</td><td>null</td></tr><tr><td>&quot;Exploiting OPC…</td><td>&quot;  Cyber-Physic…</td><td>&quot; South Seas CD…</td><td>&quot;WEDNESDAY &quot;</td><td>&quot; 3:20PM&quot;</td><td>&quot; Sharon Brizin…</td><td>&quot; 40-Minute Bri…</td><td>null</td><td>null</td></tr><tr><td>&quot;Nothing but Ne…</td><td>&quot;  Network Secu…</td><td>&quot; Oceanside A  …</td><td>&quot;WEDNESDAY &quot;</td><td>&quot; 3:20PM&quot;</td><td>&quot; Patrick Wardl…</td><td>&quot; 40-Minute Bri…</td><td>null</td><td>null</td></tr><tr><td>&quot;Over the Air, …</td><td>&quot;  Mobile,  Har…</td><td>&quot; Oceanside C  …</td><td>&quot;WEDNESDAY &quot;</td><td>&quot; 3:20PM&quot;</td><td>&quot; Farzan Karimi…</td><td>&quot; 40-Minute Bri…</td><td>null</td><td>null</td></tr><tr><td>&quot;Shuffle Up and…</td><td>&quot;  Hardware / E…</td><td>&quot; Islander HI  …</td><td>&quot;WEDNESDAY &quot;</td><td>&quot; 3:20PM&quot;</td><td>&quot; Joseph Tartar…</td><td>&quot; 40-Minute Bri…</td><td>null</td><td>null</td></tr><tr><td>&quot;Why Cyber Insu…</td><td>&quot;  Cyber Insura…</td><td>&quot; Oceanside D  …</td><td>&quot;WEDNESDAY &quot;</td><td>&quot; 3:20PM&quot;</td><td>&quot; Catherine Lyl…</td><td>&quot; 40-Minute Bri…</td><td>null</td><td>null</td></tr><tr><td>&quot;Bridging Cyber…</td><td>&quot;  Cyber Insura…</td><td>&quot; Oceanside D  …</td><td>&quot;WEDNESDAY &quot;</td><td>&quot; 4:20PM&quot;</td><td>&quot; John Caruther…</td><td>&quot; 40-Minute Bri…</td><td>null</td><td>null</td></tr><tr><td>&quot; Phoenix Soari…</td><td>&quot;  Keynote&quot;</td><td>&quot; Shoreline Bal…</td><td>&quot;WEDNESDAY &quot;</td><td>&quot; 4:20PM&quot;</td><td>&quot; Jen Easterly,…</td><td>&quot; 40-Minute Key…</td><td>null</td><td>null</td></tr></tbody></table></div>"
      ],
      "text/plain": [
       "shape: (55, 9)\n",
       "┌───────────┬───────────┬───────────┬───────────┬───┬───────────┬───────────┬──────────┬───────────┐\n",
       "│ Main      ┆ Track     ┆ Location  ┆ Date      ┆ … ┆ Speaker   ┆ Format    ┆ Panelist ┆ Moderator │\n",
       "│ ---       ┆ ---       ┆ ---       ┆ ---       ┆   ┆ ---       ┆ ---       ┆ ---      ┆ ---       │\n",
       "│ str       ┆ str       ┆ str       ┆ str       ┆   ┆ str       ┆ str       ┆ str      ┆ str       │\n",
       "╞═══════════╪═══════════╪═══════════╪═══════════╪═══╪═══════════╪═══════════╪══════════╪═══════════╡\n",
       "│ Wednesday ┆           ┆ Bayside   ┆ WEDNESDAY ┆ … ┆ null      ┆ null      ┆ null     ┆ null      │\n",
       "│ Briefings ┆           ┆ DE  Level ┆           ┆   ┆           ┆           ┆          ┆           │\n",
       "│ Breakfast ┆           ┆ 1         ┆           ┆   ┆           ┆           ┆          ┆           │\n",
       "│ Guardians ┆   Keynote ┆ Shoreline ┆ WEDNESDAY ┆ … ┆ Maria Mar ┆ 60-Minute ┆ null     ┆ null      │\n",
       "│ of the AI ┆           ┆ Ballroom  ┆           ┆   ┆ kstedter  ┆ Keynote   ┆          ┆           │\n",
       "│ Era:      ┆           ┆ Level 2   ┆           ┆   ┆           ┆           ┆          ┆           │\n",
       "│ Naviga…   ┆           ┆           ┆           ┆   ┆           ┆           ┆          ┆           │\n",
       "│ A Pain in ┆ Cloud     ┆ Oceanside ┆ WEDNESDAY ┆ … ┆ Noam      ┆ 40-Minute ┆ null     ┆ null      │\n",
       "│ the NAS:  ┆ Security, ┆ C  Level  ┆           ┆   ┆ Moshe,    ┆ Briefings ┆          ┆           │\n",
       "│ Exploitin ┆ Cyber-Phy ┆ 2         ┆           ┆   ┆ Speaker:  ┆           ┆          ┆           │\n",
       "│ g Cl…     ┆ sica…     ┆           ┆           ┆   ┆ Sharon    ┆           ┆          ┆           │\n",
       "│           ┆           ┆           ┆           ┆   ┆ Bri…      ┆           ┆          ┆           │\n",
       "│ Chained   ┆ Enterpris ┆ Islander  ┆ WEDNESDAY ┆ … ┆ Yvan      ┆ 40-Minute ┆ null     ┆ null      │\n",
       "│ to Hit:   ┆ e         ┆ HI  Level ┆           ┆   ┆ Genuer,   ┆ Briefings ┆          ┆           │\n",
       "│ Discoveri ┆ Security, ┆ 0         ┆           ┆   ┆ Speaker:  ┆           ┆          ┆           │\n",
       "│ ng New …  ┆ Applicat… ┆           ┆           ┆   ┆ Pablo     ┆           ┆          ┆           │\n",
       "│           ┆           ┆           ┆           ┆   ┆ Art…      ┆           ┆          ┆           │\n",
       "│ …         ┆ …         ┆ …         ┆ …         ┆ … ┆ …         ┆ …         ┆ …        ┆ …         │\n",
       "│ Shuffle   ┆ Hardware  ┆ Islander  ┆ WEDNESDAY ┆ … ┆ Joseph    ┆ 40-Minute ┆ null     ┆ null      │\n",
       "│ Up and    ┆ /         ┆ HI  Level ┆           ┆   ┆ Tartaro,  ┆ Briefings ┆          ┆           │\n",
       "│ Deal:     ┆ Embedded, ┆ 0         ┆           ┆   ┆ Speaker:  ┆           ┆          ┆           │\n",
       "│ Analyzing ┆ Reverse … ┆           ┆           ┆   ┆ Enriqu…   ┆           ┆          ┆           │\n",
       "│ t…        ┆           ┆           ┆           ┆   ┆           ┆           ┆          ┆           │\n",
       "│ Why Cyber ┆ Cyber     ┆ Oceanside ┆ WEDNESDAY ┆ … ┆ Catherine ┆ 40-Minute ┆ null     ┆ null      │\n",
       "│ Insurance ┆ Insurance ┆ D  Level  ┆           ┆   ┆ Lyle      ┆ Briefings ┆          ┆           │\n",
       "│ Should be ┆           ┆ 2         ┆           ┆   ┆           ┆           ┆          ┆           │\n",
       "│ Yo…       ┆           ┆           ┆           ┆   ┆           ┆           ┆          ┆           │\n",
       "│ Bridging  ┆ Cyber     ┆ Oceanside ┆ WEDNESDAY ┆ … ┆ John      ┆ 40-Minute ┆ null     ┆ null      │\n",
       "│ Cyber and ┆ Insurance ┆ D  Level  ┆           ┆   ┆ Caruthers ┆ Briefings ┆          ┆           │\n",
       "│ Insurance ┆           ┆ 2         ┆           ┆   ┆           ┆           ┆          ┆           │\n",
       "│ Phoenix   ┆   Keynote ┆ Shoreline ┆ WEDNESDAY ┆ … ┆ Jen       ┆ 40-Minute ┆ null     ┆ null      │\n",
       "│ Soaring:  ┆           ┆ Ballroom  ┆           ┆   ┆ Easterly, ┆ Keynote   ┆          ┆           │\n",
       "│ What We   ┆           ┆ Level 2   ┆           ┆   ┆ Speaker:  ┆           ┆          ┆           │\n",
       "│ Can Le…   ┆           ┆           ┆           ┆   ┆ Victor Z… ┆           ┆          ┆           │\n",
       "└───────────┴───────────┴───────────┴───────────┴───┴───────────┴───────────┴──────────┴───────────┘"
      ]
     },
     "execution_count": 10,
     "metadata": {},
     "output_type": "execute_result"
    }
   ],
   "source": [
    "df.filter(pl.col(\"Date\")==\"WEDNESDAY \")"
   ]
  },
  {
   "cell_type": "code",
   "execution_count": 11,
   "id": "3999d8dd-730a-4db4-b080-95938a324ff8",
   "metadata": {},
   "outputs": [
    {
     "data": {
      "text/html": [
       "<div><style>\n",
       ".dataframe > thead > tr > th,\n",
       ".dataframe > tbody > tr > td {\n",
       "  text-align: right;\n",
       "}\n",
       "</style>\n",
       "<small>shape: (22, 3)</small><table border=\"1\" class=\"dataframe\"><thead><tr><th>Date</th><th>Time</th><th>count</th></tr><tr><td>str</td><td>str</td><td>u32</td></tr></thead><tbody><tr><td>&quot;WEDNESDAY &quot;</td><td>&quot; 2:30PM&quot;</td><td>10</td></tr><tr><td>&quot;WEDNESDAY &quot;</td><td>&quot; 8:00AM&quot;</td><td>1</td></tr><tr><td>&quot;THURSDAY &quot;</td><td>&quot; 12:00PM&quot;</td><td>1</td></tr><tr><td>&quot;WEDNESDAY &quot;</td><td>&quot; 11:20AM&quot;</td><td>9</td></tr><tr><td>&quot;THURSDAY &quot;</td><td>&quot; 10:20AM&quot;</td><td>10</td></tr><tr><td>&quot;WEDNESDAY &quot;</td><td>&quot; 1:30PM&quot;</td><td>10</td></tr><tr><td>&quot;THURSDAY &quot;</td><td>&quot; 11:00AM&quot;</td><td>1</td></tr><tr><td>&quot;WEDNESDAY &quot;</td><td>&quot; 3:00PM&quot;</td><td>1</td></tr><tr><td>&quot;WEDNESDAY &quot;</td><td>&quot; 3:20PM&quot;</td><td>10</td></tr><tr><td>&quot;WEDNESDAY &quot;</td><td>&quot; 4:20PM&quot;</td><td>2</td></tr><tr><td>&quot;THURSDAY &quot;</td><td>&quot; 9:00AM&quot;</td><td>1</td></tr><tr><td>&quot;THURSDAY &quot;</td><td>&quot; 8:00AM&quot;</td><td>1</td></tr><tr><td>&quot;THURSDAY &quot;</td><td>&quot; 2:30PM&quot;</td><td>10</td></tr><tr><td>&quot;WEDNESDAY &quot;</td><td>&quot; 11:00AM&quot;</td><td>1</td></tr><tr><td>&quot;THURSDAY &quot;</td><td>&quot; 1:30PM&quot;</td><td>10</td></tr><tr><td>&quot;WEDNESDAY &quot;</td><td>&quot; 10:20AM&quot;</td><td>9</td></tr><tr><td>&quot;THURSDAY &quot;</td><td>&quot; 11:20AM&quot;</td><td>10</td></tr><tr><td>&quot;WEDNESDAY &quot;</td><td>&quot; 12:00PM&quot;</td><td>1</td></tr><tr><td>&quot;WEDNESDAY &quot;</td><td>&quot; 9:00AM&quot;</td><td>1</td></tr><tr><td>&quot;THURSDAY &quot;</td><td>&quot; 3:20PM&quot;</td><td>9</td></tr><tr><td>&quot;THURSDAY &quot;</td><td>&quot; 4:20PM&quot;</td><td>8</td></tr><tr><td>&quot;THURSDAY &quot;</td><td>&quot; 3:00PM&quot;</td><td>1</td></tr></tbody></table></div>"
      ],
      "text/plain": [
       "shape: (22, 3)\n",
       "┌────────────┬──────────┬───────┐\n",
       "│ Date       ┆ Time     ┆ count │\n",
       "│ ---        ┆ ---      ┆ ---   │\n",
       "│ str        ┆ str      ┆ u32   │\n",
       "╞════════════╪══════════╪═══════╡\n",
       "│ WEDNESDAY  ┆  2:30PM  ┆ 10    │\n",
       "│ WEDNESDAY  ┆  8:00AM  ┆ 1     │\n",
       "│ THURSDAY   ┆  12:00PM ┆ 1     │\n",
       "│ WEDNESDAY  ┆  11:20AM ┆ 9     │\n",
       "│ …          ┆ …        ┆ …     │\n",
       "│ WEDNESDAY  ┆  9:00AM  ┆ 1     │\n",
       "│ THURSDAY   ┆  3:20PM  ┆ 9     │\n",
       "│ THURSDAY   ┆  4:20PM  ┆ 8     │\n",
       "│ THURSDAY   ┆  3:00PM  ┆ 1     │\n",
       "└────────────┴──────────┴───────┘"
      ]
     },
     "execution_count": 11,
     "metadata": {},
     "output_type": "execute_result"
    }
   ],
   "source": [
    "df.groupby([\"Date\",\"Time\"]).count()"
   ]
  },
  {
   "cell_type": "code",
   "execution_count": 12,
   "id": "a371f8af-b0b0-4186-9362-62d52e13107d",
   "metadata": {
    "tags": []
   },
   "outputs": [],
   "source": [
    "d = [' Bayside DE  Level 1',\n",
    " ' Briefings Area',\n",
    "     ' Shoreline Ballroom  Level 2',\n",
    " ' Oceanside C  Level 2',\n",
    " ' Islander HI  Level 0',\n",
    " ' Jasmine AE  Level 3',\n",
    " ' South Seas AB  Level 3',\n",
    " ' Mandalay Bay H  Level 2',\n",
    " ' South Seas CD  Level 3',\n",
    " ' Islander FG  Level 0',\n",
    " ' Oceanside A  Level 2',\n",
    " ' South Pacific F  Level 0',\n",
    " ' Oceanside D  Level 2']"
   ]
  },
  {
   "cell_type": "code",
   "execution_count": 13,
   "id": "33d4aae9-4999-4340-adce-b35b75a90a7b",
   "metadata": {
    "tags": []
   },
   "outputs": [],
   "source": [
    "cols = [\"Time\"]+sorted(d)"
   ]
  },
  {
   "cell_type": "code",
   "execution_count": 14,
   "id": "32e20ef3-bacd-4f9b-b770-a459ad5d5737",
   "metadata": {
    "tags": []
   },
   "outputs": [
    {
     "name": "stderr",
     "output_type": "stream",
     "text": [
      "/tmp/ipykernel_2475787/2435892999.py:1: DeprecationWarning: In a future version of polars, the default `aggregate_function` will change from `'first'` to `None`. Please pass `'first'` to keep the current behaviour, or `None` to accept the new one.\n",
      "  df.filter(pl.col(\"Date\")==\"WEDNESDAY \").pivot(values = \"Main\", index = \"Time\", columns = \"Location\").select(cols)\n"
     ]
    },
    {
     "data": {
      "text/html": [
       "<div><style>\n",
       ".dataframe > thead > tr > th,\n",
       ".dataframe > tbody > tr > td {\n",
       "  text-align: right;\n",
       "}\n",
       "</style>\n",
       "<small>shape: (11, 14)</small><table border=\"1\" class=\"dataframe\"><thead><tr><th>Time</th><th> Bayside DE  Level 1</th><th> Briefings Area</th><th> Islander FG  Level 0</th><th> Islander HI  Level 0</th><th> Jasmine AE  Level 3</th><th> Mandalay Bay H  Level 2</th><th> Oceanside A  Level 2</th><th> Oceanside C  Level 2</th><th> Oceanside D  Level 2</th><th> Shoreline Ballroom  Level 2</th><th> South Pacific F  Level 0</th><th> South Seas AB  Level 3</th><th> South Seas CD  Level 3</th></tr><tr><td>str</td><td>str</td><td>str</td><td>str</td><td>str</td><td>str</td><td>str</td><td>str</td><td>str</td><td>str</td><td>str</td><td>str</td><td>str</td><td>str</td></tr></thead><tbody><tr><td>&quot; 8:00AM&quot;</td><td>&quot;Wednesday Brie…</td><td>null</td><td>null</td><td>null</td><td>null</td><td>null</td><td>null</td><td>null</td><td>null</td><td>null</td><td>null</td><td>null</td><td>null</td></tr><tr><td>&quot; 9:00AM&quot;</td><td>null</td><td>null</td><td>null</td><td>null</td><td>null</td><td>null</td><td>null</td><td>null</td><td>null</td><td>&quot; Guardians of …</td><td>null</td><td>null</td><td>null</td></tr><tr><td>&quot; 10:20AM&quot;</td><td>null</td><td>null</td><td>&quot;Reflections on…</td><td>&quot;Chained to Hit…</td><td>&quot;Civil Cyber De…</td><td>&quot;Defender-Prete…</td><td>&quot;Smashing the S…</td><td>&quot;A Pain in the …</td><td>null</td><td>null</td><td>&quot;Video-Based Cr…</td><td>&quot;Core Escalatio…</td><td>&quot;Devising and D…</td></tr><tr><td>&quot; 11:00AM&quot;</td><td>null</td><td>&quot;Briefings Morn…</td><td>null</td><td>null</td><td>null</td><td>null</td><td>null</td><td>null</td><td>null</td><td>null</td><td>null</td><td>null</td><td>null</td></tr><tr><td>&quot; 11:20AM&quot;</td><td>null</td><td>null</td><td>&quot;Apple PAC, Fou…</td><td>&quot;Route to Bugs:…</td><td>&quot;Risks of AI Ri…</td><td>&quot;Redacted Telec…</td><td>&quot;Fast, Ever-Evo…</td><td>&quot;BingBang: Hack…</td><td>null</td><td>null</td><td>&quot;Jailbreaking a…</td><td>&quot;Lost Control: …</td><td>&quot;Badge of Shame…</td></tr><tr><td>&quot; 12:00PM&quot;</td><td>&quot;Wednesday Brie…</td><td>null</td><td>null</td><td>null</td><td>null</td><td>null</td><td>null</td><td>null</td><td>null</td><td>null</td><td>null</td><td>null</td><td>null</td></tr><tr><td>&quot; 1:30PM&quot;</td><td>null</td><td>null</td><td>&quot;Becoming a Dar…</td><td>&quot;Windows Agentl…</td><td>&quot;Small Leaks, B…</td><td>&quot;dr1v3by! Broke…</td><td>&quot;Weaponizing Pl…</td><td>&quot;Hot Topics in …</td><td>&quot;The Integratio…</td><td>null</td><td>&quot;Single Instruc…</td><td>&quot;Physical Attac…</td><td>&quot;I Watched You …</td></tr><tr><td>&quot; 2:30PM&quot;</td><td>null</td><td>null</td><td>&quot;Cookie Crumble…</td><td>&quot;A Manufacturer…</td><td>&quot;Identifying an…</td><td>&quot;The Most Dange…</td><td>&quot;Second Breakfa…</td><td>&quot;HARry Parser a…</td><td>&quot;Leverage and D…</td><td>null</td><td>&quot;BTD: Unleashin…</td><td>&quot;From Dead Data…</td><td>&quot;MaginotDNS: At…</td></tr><tr><td>&quot; 3:00PM&quot;</td><td>null</td><td>&quot;Briefings Afte…</td><td>null</td><td>null</td><td>null</td><td>null</td><td>null</td><td>null</td><td>null</td><td>null</td><td>null</td><td>null</td><td>null</td></tr><tr><td>&quot; 3:20PM&quot;</td><td>null</td><td>null</td><td>&quot;Dismantling DD…</td><td>&quot;Shuffle Up and…</td><td>&quot;Bad io_uring: …</td><td>&quot;Close Encounte…</td><td>&quot;Nothing but Ne…</td><td>&quot;Over the Air, …</td><td>&quot;Why Cyber Insu…</td><td>null</td><td>&quot;A SSLippery Sl…</td><td>&quot;Diversity Micr…</td><td>&quot;Exploiting OPC…</td></tr><tr><td>&quot; 4:20PM&quot;</td><td>null</td><td>null</td><td>null</td><td>null</td><td>null</td><td>null</td><td>null</td><td>null</td><td>&quot;Bridging Cyber…</td><td>&quot; Phoenix Soari…</td><td>null</td><td>null</td><td>null</td></tr></tbody></table></div>"
      ],
      "text/plain": [
       "shape: (11, 14)\n",
       "┌──────────┬────────────┬────────────┬────────────┬───┬────────────┬────────────┬────────────┬────────────┐\n",
       "│ Time     ┆ Bayside DE ┆ Briefings  ┆ Islander   ┆ … ┆ Shoreline  ┆ South      ┆ South Seas ┆ South Seas │\n",
       "│ ---      ┆ Level 1    ┆ Area       ┆ FG  Level  ┆   ┆ Ballroom   ┆ Pacific F  ┆ AB  Level  ┆ CD  Level  │\n",
       "│ str      ┆ ---        ┆ ---        ┆ 0          ┆   ┆ Level 2    ┆ Level 0    ┆ 3          ┆ 3          │\n",
       "│          ┆ str        ┆ str        ┆ ---        ┆   ┆ ---        ┆ ---        ┆ ---        ┆ ---        │\n",
       "│          ┆            ┆            ┆ str        ┆   ┆ str        ┆ str        ┆ str        ┆ str        │\n",
       "╞══════════╪════════════╪════════════╪════════════╪═══╪════════════╪════════════╪════════════╪════════════╡\n",
       "│  8:00AM  ┆ Wednesday  ┆ null       ┆ null       ┆ … ┆ null       ┆ null       ┆ null       ┆ null       │\n",
       "│          ┆ Briefings  ┆            ┆            ┆   ┆            ┆            ┆            ┆            │\n",
       "│          ┆ Breakfast  ┆            ┆            ┆   ┆            ┆            ┆            ┆            │\n",
       "│  9:00AM  ┆ null       ┆ null       ┆ null       ┆ … ┆ Guardians  ┆ null       ┆ null       ┆ null       │\n",
       "│          ┆            ┆            ┆            ┆   ┆ of the AI  ┆            ┆            ┆            │\n",
       "│          ┆            ┆            ┆            ┆   ┆ Era:       ┆            ┆            ┆            │\n",
       "│          ┆            ┆            ┆            ┆   ┆ Naviga…    ┆            ┆            ┆            │\n",
       "│  10:20AM ┆ null       ┆ null       ┆ Reflection ┆ … ┆ null       ┆ Video-Base ┆ Core Escal ┆ Devising   │\n",
       "│          ┆            ┆            ┆ s on Trust ┆   ┆            ┆ d Cryptana ┆ ation:     ┆ and        │\n",
       "│          ┆            ┆            ┆ in the     ┆   ┆            ┆ lysis:     ┆ Unleashing ┆ Detecting  │\n",
       "│          ┆            ┆            ┆ Soft…      ┆   ┆            ┆ Recov…     ┆ the …      ┆ Phishing:… │\n",
       "│  11:00AM ┆ null       ┆ Briefings  ┆ null       ┆ … ┆ null       ┆ null       ┆ null       ┆ null       │\n",
       "│          ┆            ┆ Morning    ┆            ┆   ┆            ┆            ┆            ┆            │\n",
       "│          ┆            ┆ Refreshmen ┆            ┆   ┆            ┆            ┆            ┆            │\n",
       "│          ┆            ┆ t Br…      ┆            ┆   ┆            ┆            ┆            ┆            │\n",
       "│ …        ┆ …          ┆ …          ┆ …          ┆ … ┆ …          ┆ …          ┆ …          ┆ …          │\n",
       "│  2:30PM  ┆ null       ┆ null       ┆ Cookie     ┆ … ┆ null       ┆ BTD:       ┆ From Dead  ┆ MaginotDNS │\n",
       "│          ┆            ┆            ┆ Crumbles:  ┆   ┆            ┆ Unleashing ┆ Data to    ┆ :          │\n",
       "│          ┆            ┆            ┆ Unveiling  ┆   ┆            ┆ the Power  ┆ Digestion: ┆ Attacking  │\n",
       "│          ┆            ┆            ┆ Web S…     ┆   ┆            ┆ of Dec…    ┆ Ext…       ┆ the        │\n",
       "│          ┆            ┆            ┆            ┆   ┆            ┆            ┆            ┆ Bounda…    │\n",
       "│  3:00PM  ┆ null       ┆ Briefings  ┆ null       ┆ … ┆ null       ┆ null       ┆ null       ┆ null       │\n",
       "│          ┆            ┆ Afternoon  ┆            ┆   ┆            ┆            ┆            ┆            │\n",
       "│          ┆            ┆ Refreshmen ┆            ┆   ┆            ┆            ┆            ┆            │\n",
       "│          ┆            ┆ t …        ┆            ┆   ┆            ┆            ┆            ┆            │\n",
       "│  3:20PM  ┆ null       ┆ null       ┆ Dismantlin ┆ … ┆ null       ┆ A          ┆ Diversity  ┆ Exploiting │\n",
       "│          ┆            ┆            ┆ g DDoS -   ┆   ┆            ┆ SSLippery  ┆ Microtalks ┆ OPC-UA in  │\n",
       "│          ┆            ┆            ┆ Lessons in ┆   ┆            ┆ Slope:     ┆ : Perspect ┆ Every      │\n",
       "│          ┆            ┆            ┆ Sc…        ┆   ┆            ┆ Unraveling ┆ iv…        ┆ Possi…     │\n",
       "│          ┆            ┆            ┆            ┆   ┆            ┆ th…        ┆            ┆            │\n",
       "│  4:20PM  ┆ null       ┆ null       ┆ null       ┆ … ┆ Phoenix    ┆ null       ┆ null       ┆ null       │\n",
       "│          ┆            ┆            ┆            ┆   ┆ Soaring:   ┆            ┆            ┆            │\n",
       "│          ┆            ┆            ┆            ┆   ┆ What We    ┆            ┆            ┆            │\n",
       "│          ┆            ┆            ┆            ┆   ┆ Can Le…    ┆            ┆            ┆            │\n",
       "└──────────┴────────────┴────────────┴────────────┴───┴────────────┴────────────┴────────────┴────────────┘"
      ]
     },
     "execution_count": 14,
     "metadata": {},
     "output_type": "execute_result"
    }
   ],
   "source": [
    "df.filter(pl.col(\"Date\")==\"WEDNESDAY \").pivot(values = \"Main\", index = \"Time\", columns = \"Location\").select(cols)"
   ]
  },
  {
   "cell_type": "code",
   "execution_count": 15,
   "id": "68bc8664-9acb-4211-b68b-606a14d1ab34",
   "metadata": {},
   "outputs": [],
   "source": [
    "def add(df, youbi = \"WEDNESDAY \"):\n",
    "    ret_df = df.filter(pl.col(\"Date\")==youbi).pivot(values = \"Main\", index = \"Time\", columns = \"Location\").select(cols)\n",
    "    \n",
    "    for c in d:\n",
    "        ret_df = ret_df.with_column(pl.col(c).str.replace('', '\\n'))\n",
    "    \n",
    "    ret_df = ret_df + df.filter(pl.col(\"Date\")==youbi).pivot(values = \"Track\", index = \"Time\", columns = \"Location\").select(cols)\n",
    "    \n",
    "    for c in d:\n",
    "        ret_df = ret_df.with_column(pl.col(c).str.replace('', '\\n'))\n",
    "        \n",
    "    ret_df = ret_df + df.filter(pl.col(\"Date\")==youbi).pivot(values = \"Speaker\", index = \"Time\", columns = \"Location\").select(cols)\n",
    "    return ret_df"
   ]
  },
  {
   "cell_type": "code",
   "execution_count": 16,
   "id": "91a9dd98-7571-442a-ab2c-0403f9f177d3",
   "metadata": {},
   "outputs": [
    {
     "name": "stderr",
     "output_type": "stream",
     "text": [
      "/tmp/ipykernel_2475787/2637288630.py:2: DeprecationWarning: In a future version of polars, the default `aggregate_function` will change from `'first'` to `None`. Please pass `'first'` to keep the current behaviour, or `None` to accept the new one.\n",
      "  ret_df = df.filter(pl.col(\"Date\")==youbi).pivot(values = \"Main\", index = \"Time\", columns = \"Location\").select(cols)\n"
     ]
    },
    {
     "ename": "AttributeError",
     "evalue": "'DataFrame' object has no attribute 'with_column'",
     "output_type": "error",
     "traceback": [
      "\u001b[0;31m---------------------------------------------------------------------------\u001b[0m",
      "\u001b[0;31mAttributeError\u001b[0m                            Traceback (most recent call last)",
      "Cell \u001b[0;32mIn[16], line 1\u001b[0m\n\u001b[0;32m----> 1\u001b[0m \u001b[43madd\u001b[49m\u001b[43m(\u001b[49m\u001b[43mdf\u001b[49m\u001b[43m)\u001b[49m\u001b[38;5;241m.\u001b[39mwrite_csv(\u001b[38;5;124m\"\u001b[39m\u001b[38;5;124msample.csv\u001b[39m\u001b[38;5;124m\"\u001b[39m)\n",
      "Cell \u001b[0;32mIn[15], line 5\u001b[0m, in \u001b[0;36madd\u001b[0;34m(df, youbi)\u001b[0m\n\u001b[1;32m      2\u001b[0m ret_df \u001b[38;5;241m=\u001b[39m df\u001b[38;5;241m.\u001b[39mfilter(pl\u001b[38;5;241m.\u001b[39mcol(\u001b[38;5;124m\"\u001b[39m\u001b[38;5;124mDate\u001b[39m\u001b[38;5;124m\"\u001b[39m)\u001b[38;5;241m==\u001b[39myoubi)\u001b[38;5;241m.\u001b[39mpivot(values \u001b[38;5;241m=\u001b[39m \u001b[38;5;124m\"\u001b[39m\u001b[38;5;124mMain\u001b[39m\u001b[38;5;124m\"\u001b[39m, index \u001b[38;5;241m=\u001b[39m \u001b[38;5;124m\"\u001b[39m\u001b[38;5;124mTime\u001b[39m\u001b[38;5;124m\"\u001b[39m, columns \u001b[38;5;241m=\u001b[39m \u001b[38;5;124m\"\u001b[39m\u001b[38;5;124mLocation\u001b[39m\u001b[38;5;124m\"\u001b[39m)\u001b[38;5;241m.\u001b[39mselect(cols)\n\u001b[1;32m      4\u001b[0m \u001b[38;5;28;01mfor\u001b[39;00m c \u001b[38;5;129;01min\u001b[39;00m d:\n\u001b[0;32m----> 5\u001b[0m     ret_df \u001b[38;5;241m=\u001b[39m \u001b[43mret_df\u001b[49m\u001b[38;5;241;43m.\u001b[39;49m\u001b[43mwith_column\u001b[49m(pl\u001b[38;5;241m.\u001b[39mcol(c)\u001b[38;5;241m.\u001b[39mstr\u001b[38;5;241m.\u001b[39mreplace(\u001b[38;5;124m'\u001b[39m\u001b[38;5;124m'\u001b[39m, \u001b[38;5;124m'\u001b[39m\u001b[38;5;130;01m\\n\u001b[39;00m\u001b[38;5;124m'\u001b[39m))\n\u001b[1;32m      7\u001b[0m ret_df \u001b[38;5;241m=\u001b[39m ret_df \u001b[38;5;241m+\u001b[39m df\u001b[38;5;241m.\u001b[39mfilter(pl\u001b[38;5;241m.\u001b[39mcol(\u001b[38;5;124m\"\u001b[39m\u001b[38;5;124mDate\u001b[39m\u001b[38;5;124m\"\u001b[39m)\u001b[38;5;241m==\u001b[39myoubi)\u001b[38;5;241m.\u001b[39mpivot(values \u001b[38;5;241m=\u001b[39m \u001b[38;5;124m\"\u001b[39m\u001b[38;5;124mTrack\u001b[39m\u001b[38;5;124m\"\u001b[39m, index \u001b[38;5;241m=\u001b[39m \u001b[38;5;124m\"\u001b[39m\u001b[38;5;124mTime\u001b[39m\u001b[38;5;124m\"\u001b[39m, columns \u001b[38;5;241m=\u001b[39m \u001b[38;5;124m\"\u001b[39m\u001b[38;5;124mLocation\u001b[39m\u001b[38;5;124m\"\u001b[39m)\u001b[38;5;241m.\u001b[39mselect(cols)\n\u001b[1;32m      9\u001b[0m \u001b[38;5;28;01mfor\u001b[39;00m c \u001b[38;5;129;01min\u001b[39;00m d:\n",
      "\u001b[0;31mAttributeError\u001b[0m: 'DataFrame' object has no attribute 'with_column'"
     ]
    }
   ],
   "source": [
    "add(df).write_csv(\"sample.csv\")"
   ]
  },
  {
   "cell_type": "code",
   "execution_count": null,
   "id": "8b4e1700-4c44-4b91-9542-36d7234f73de",
   "metadata": {},
   "outputs": [],
   "source": [
    "# .write_csv(\"WEDNESDAY.csv\")"
   ]
  },
  {
   "cell_type": "code",
   "execution_count": null,
   "id": "85a86356-5807-40e0-9e8a-5285eeed555c",
   "metadata": {
    "tags": []
   },
   "outputs": [],
   "source": [
    "df.filter(pl.col(\"Date\")==\"THURSDAY \").pivot(values = \"Main\", index = \"Time\", columns = \"Location\").select(cols).write_csv(\"THURSDAY.csv\")"
   ]
  },
  {
   "cell_type": "code",
   "execution_count": null,
   "id": "d39b4573-6055-46a5-aeff-fd0ed765da9b",
   "metadata": {},
   "outputs": [],
   "source": []
  }
 ],
 "metadata": {
  "kernelspec": {
   "display_name": "Python 3 (ipykernel)",
   "language": "python",
   "name": "python3"
  },
  "language_info": {
   "codemirror_mode": {
    "name": "ipython",
    "version": 3
   },
   "file_extension": ".py",
   "mimetype": "text/x-python",
   "name": "python",
   "nbconvert_exporter": "python",
   "pygments_lexer": "ipython3",
   "version": "3.9.17"
  }
 },
 "nbformat": 4,
 "nbformat_minor": 5
}
