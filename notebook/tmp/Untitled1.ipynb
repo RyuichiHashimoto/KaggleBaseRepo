{
 "cells": [
  {
   "cell_type": "code",
   "execution_count": 19,
   "id": "962bbc29-58b8-4584-bcd8-19edd0c9ae54",
   "metadata": {},
   "outputs": [],
   "source": [
    "sample  = [\"aa\", \"b0\", \"55\"]"
   ]
  },
  {
   "cell_type": "code",
   "execution_count": 20,
   "id": "ded96c5e-414f-4407-915a-e34f634029fc",
   "metadata": {},
   "outputs": [],
   "source": [
    "data = bytes.fromhex(\"\".join(sample))"
   ]
  },
  {
   "cell_type": "code",
   "execution_count": 24,
   "id": "3db31d19-65d3-4a36-adf7-1f4ed0a11c13",
   "metadata": {},
   "outputs": [],
   "source": [
    "from enum import Enum"
   ]
  },
  {
   "cell_type": "code",
   "execution_count": 25,
   "id": "c5c77aa7-1981-4c0b-8084-84626e19599f",
   "metadata": {},
   "outputs": [],
   "source": [
    "class ConditionEnum(Enum):\n",
    "    NoneCondition = \"None\"\n",
    "    CanIDCondition = \"CarID\"\n",
    "    ValueCondition = \"Value\"\n",
    "    RangeCondition = \"Range\""
   ]
  },
  {
   "cell_type": "code",
   "execution_count": 27,
   "id": "8b188e33-4f08-4586-ba5d-cdf562a4080f",
   "metadata": {},
   "outputs": [
    {
     "data": {
      "text/plain": [
       "'None'"
      ]
     },
     "execution_count": 27,
     "metadata": {},
     "output_type": "execute_result"
    }
   ],
   "source": [
    "ConditionEnum.NoneCondition.value"
   ]
  },
  {
   "cell_type": "code",
   "execution_count": null,
   "id": "8f22c7e2-52f7-45ab-821a-4e1b65a2517c",
   "metadata": {},
   "outputs": [],
   "source": []
  }
 ],
 "metadata": {
  "kernelspec": {
   "display_name": "Python 3 (ipykernel)",
   "language": "python",
   "name": "python3"
  },
  "language_info": {
   "codemirror_mode": {
    "name": "ipython",
    "version": 3
   },
   "file_extension": ".py",
   "mimetype": "text/x-python",
   "name": "python",
   "nbconvert_exporter": "python",
   "pygments_lexer": "ipython3",
   "version": "3.9.17"
  }
 },
 "nbformat": 4,
 "nbformat_minor": 5
}
