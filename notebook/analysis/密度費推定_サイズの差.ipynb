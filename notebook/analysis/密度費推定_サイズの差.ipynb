{
 "cells": [
  {
   "cell_type": "code",
   "execution_count": null,
   "id": "8d222f8e-ed61-407e-a3ae-62ed9a363240",
   "metadata": {},
   "outputs": [
    {
     "ename": "ModuleNotFoundError",
     "evalue": "No module named 'DRE'",
     "output_type": "error",
     "traceback": [
      "\u001b[0;31m---------------------------------------------------------------------------\u001b[0m",
      "\u001b[0;31mModuleNotFoundError\u001b[0m                       Traceback (most recent call last)",
      "Cell \u001b[0;32mIn[2], line 8\u001b[0m\n\u001b[1;32m      5\u001b[0m \u001b[38;5;28;01mfrom\u001b[39;00m \u001b[38;5;21;01mdataset\u001b[39;00m\u001b[38;5;21;01m.\u001b[39;00m\u001b[38;5;21;01mtimeseriesToyDataset\u001b[39;00m\u001b[38;5;21;01m.\u001b[39;00m\u001b[38;5;21;01mtwoLinearDatasetWithShifts\u001b[39;00m \u001b[38;5;28;01mimport\u001b[39;00m twoLinearDatasetWithShifts\n\u001b[1;32m      6\u001b[0m \u001b[38;5;28;01mfrom\u001b[39;00m \u001b[38;5;21;01mdataset\u001b[39;00m\u001b[38;5;21;01m.\u001b[39;00m\u001b[38;5;21;01mtimeseriesToyDataset\u001b[39;00m\u001b[38;5;21;01m.\u001b[39;00m\u001b[38;5;21;01msample_dataset_specification\u001b[39;00m \u001b[38;5;28;01mimport\u001b[39;00m add_shifts_to_linear_params\n\u001b[0;32m----> 8\u001b[0m \u001b[38;5;28;01mfrom\u001b[39;00m \u001b[38;5;21;01mDRE\u001b[39;00m\u001b[38;5;21;01m.\u001b[39;00m\u001b[38;5;21;01mMLBasedDRE\u001b[39;00m \u001b[38;5;28;01mimport\u001b[39;00m MLBasedDRE, MLBasedDRE_Parameter\n\u001b[1;32m      9\u001b[0m \u001b[38;5;28;01mfrom\u001b[39;00m \u001b[38;5;21;01mmodels\u001b[39;00m\u001b[38;5;21;01m.\u001b[39;00m\u001b[38;5;21;01mMLP_torch\u001b[39;00m \u001b[38;5;28;01mimport\u001b[39;00m MLP_Parameter\n\u001b[1;32m     10\u001b[0m \u001b[38;5;28;01mfrom\u001b[39;00m \u001b[38;5;21;01mmodels\u001b[39;00m\u001b[38;5;21;01m.\u001b[39;00m\u001b[38;5;21;01mmodelFactory\u001b[39;00m \u001b[38;5;28;01mimport\u001b[39;00m ModelFactory\n",
      "\u001b[0;31mModuleNotFoundError\u001b[0m: No module named 'DRE'"
     ]
    }
   ],
   "source": [
    "import numpy as np\n",
    "from dataset.timeseriesToyDataset.twoLinearDataset import twoLinearDataset\n",
    "from evaluator.visualize import lineplot\n",
    "from dataset.timeseriesToyDataset.twoLinearDataset import LinearParameter\n",
    "from dataset.timeseriesToyDataset.twoLinearDatasetWithShifts import twoLinearDatasetWithShifts\n",
    "from dataset.timeseriesToyDataset.sample_dataset_specification import add_shifts_to_linear_params\n",
    "\n",
    "from anomalyDetector.DRE.MLBasedDRE import MLBasedDRE, MLBasedDRE_Parameter\n",
    "from models.MLP_torch import MLP_Parameter\n",
    "from models.modelFactory import ModelFactory\n",
    "\n",
    "import matplotlib.pyplot as plt\n",
    "import seaborn as sns\n",
    "\n",
    "import warnings\n",
    "warnings.simplefilter(\"ignore\")"
   ]
  },
  {
   "cell_type": "markdown",
   "id": "fca3b8d1-eb15-4905-a592-b999e549e09c",
   "metadata": {},
   "source": [
    "# model"
   ]
  },
  {
   "cell_type": "code",
   "execution_count": 2,
   "id": "d19a534d-dc32-42ee-a762-7e85f99da00b",
   "metadata": {},
   "outputs": [],
   "source": [
    "ToyDatasetProblem = [\n",
    "    (LinearParameter(0, 5, 0.1, 10000), LinearParameter(0, 14, 0.1, 2000)),\n",
    "    (LinearParameter(0.0005, 2, 0.1, 10000), LinearParameter(0.0005, 10, 0.1, 2000)),\n",
    "    (LinearParameter(0.001, 2, 0.1, 10000), LinearParameter(0.001, 4, 0.1, 2000)),\n",
    "    (LinearParameter(0, 3, 0.1, 10000), LinearParameter(0.001, 3, 0.1, 2000)),\n",
    "    (LinearParameter(0.001, 2, 0.1, 10000), LinearParameter(0, 12, 0.1, 2000)),\n",
    "    (LinearParameter(0.0001, 2, 0.1, 10000), LinearParameter(0.001, 3, 0.1, 2000)),\n",
    "    (LinearParameter(0.001, 3, 0.1, 10000), LinearParameter(-0.001, 13, 0.1, 2000)),\n",
    "    (LinearParameter(0, 8, 0.1, 10000), LinearParameter(0, 8, 0.1, 2000)),\n",
    "    (LinearParameter(0.0005, 3, 0.1, 10000), LinearParameter(0.0005, 8, 0.1, 2000)),\n",
    "]"
   ]
  },
  {
   "cell_type": "code",
   "execution_count": 3,
   "id": "71580a35-2cb0-4028-83a2-9d8a3d7c5dee",
   "metadata": {},
   "outputs": [],
   "source": [
    "def creat_result(estimator_param, nshift):\n",
    "    fig, axes = plt.subplots(3, 3, figsize=(30, 20))\n",
    "    \n",
    "    for idx,p in enumerate(ToyDatasetProblem):\n",
    "        n = nshift\n",
    "        axes[idx//3][idx%3].set_ylim([0, 17])\n",
    "        \n",
    "        if nshift == 0:\n",
    "            dataset = twoLinearDataset(p)            \n",
    "        else:\n",
    "            dataset = twoLinearDatasetWithShifts(add_shifts_to_linear_params(p, n))\n",
    "            dataset.drop_nulls(f\"x{nshift}\")\n",
    "            \n",
    "            \n",
    "        \n",
    "        estimator = MLBasedDRE(param)\n",
    "        score = estimator.estimate(dataset)\n",
    "        axes[idx//3][idx%3].set_title(f\"specuation{score}\")\n",
    "        sns.lineplot(dataset.data, x=\"idx\", y=\"x\", hue = \"rprob\",ax = axes[idx//3][idx%3])"
   ]
  },
  {
   "cell_type": "markdown",
   "id": "ae31d108-60d6-468d-8d04-6cfbf5c493ad",
   "metadata": {},
   "source": [
    "# NewralNetwork"
   ]
  },
  {
   "cell_type": "code",
   "execution_count": 4,
   "id": "b15f8fac-f48d-4b0b-a48d-3e2a8264b68f",
   "metadata": {},
   "outputs": [],
   "source": [
    "dataset = twoLinearDataset(ToyDatasetProblem[0])            \n"
   ]
  },
  {
   "cell_type": "code",
   "execution_count": 5,
   "id": "6f3bf569-dfe9-49fc-9ad7-a1cf172d1839",
   "metadata": {},
   "outputs": [],
   "source": [
    "import polars as pl"
   ]
  },
  {
   "cell_type": "code",
   "execution_count": 6,
   "id": "8adae56e-de95-4bcf-9225-906d8022b6ce",
   "metadata": {},
   "outputs": [
    {
     "data": {
      "text/plain": [
       "2000"
      ]
     },
     "execution_count": 6,
     "metadata": {},
     "output_type": "execute_result"
    }
   ],
   "source": [
    "dataset.data.filter(pl.col(\"y\")==1).shape[0]"
   ]
  },
  {
   "cell_type": "code",
   "execution_count": 1,
   "id": "018be93b-95b4-4f59-907e-ae25c7bd0cd3",
   "metadata": {},
   "outputs": [
    {
     "ename": "NameError",
     "evalue": "name 'MLP_Parameter' is not defined",
     "output_type": "error",
     "traceback": [
      "\u001b[0;31m---------------------------------------------------------------------------\u001b[0m",
      "\u001b[0;31mNameError\u001b[0m                                 Traceback (most recent call last)",
      "Cell \u001b[0;32mIn[1], line 3\u001b[0m\n\u001b[1;32m      1\u001b[0m n \u001b[38;5;241m=\u001b[39m \u001b[38;5;241m100\u001b[39m\n\u001b[1;32m      2\u001b[0m model_param \u001b[38;5;241m=\u001b[39m {\u001b[38;5;124m\"\u001b[39m\u001b[38;5;124minputdim\u001b[39m\u001b[38;5;124m\"\u001b[39m: n\u001b[38;5;241m+\u001b[39m\u001b[38;5;241m1\u001b[39m, \u001b[38;5;124m\"\u001b[39m\u001b[38;5;124mepochs\u001b[39m\u001b[38;5;124m\"\u001b[39m: \u001b[38;5;241m5000\u001b[39m, \u001b[38;5;124m\"\u001b[39m\u001b[38;5;124mlr\u001b[39m\u001b[38;5;124m\"\u001b[39m: \u001b[38;5;241m0.001\u001b[39m, \u001b[38;5;124m\"\u001b[39m\u001b[38;5;124mcuda\u001b[39m\u001b[38;5;124m\"\u001b[39m: \u001b[38;5;28;01mTrue\u001b[39;00m}\n\u001b[0;32m----> 3\u001b[0m param \u001b[38;5;241m=\u001b[39m {\u001b[38;5;124m\"\u001b[39m\u001b[38;5;124mmodel_param\u001b[39m\u001b[38;5;124m\"\u001b[39m: \u001b[43mMLP_Parameter\u001b[49m\u001b[38;5;241m.\u001b[39mfrom_dict(model_param)}\n\u001b[1;32m      4\u001b[0m creat_result(param, \u001b[38;5;241m0\u001b[39m)\n",
      "\u001b[0;31mNameError\u001b[0m: name 'MLP_Parameter' is not defined"
     ]
    }
   ],
   "source": [
    "n = 100\n",
    "model_param = {\"inputdim\": n+1, \"epochs\": 5000, \"lr\": 0.001, \"cuda\": True}\n",
    "param = {\"model_param\": MLP_Parameter.from_dict(model_param)}\n",
    "creat_result(param, 0)"
   ]
  },
  {
   "cell_type": "code",
   "execution_count": null,
   "id": "03530e04-9b7e-4899-b0b6-37eb07179eeb",
   "metadata": {},
   "outputs": [],
   "source": []
  }
 ],
 "metadata": {
  "kernelspec": {
   "display_name": "Python 3 (ipykernel)",
   "language": "python",
   "name": "python3"
  },
  "language_info": {
   "codemirror_mode": {
    "name": "ipython",
    "version": 3
   },
   "file_extension": ".py",
   "mimetype": "text/x-python",
   "name": "python",
   "nbconvert_exporter": "python",
   "pygments_lexer": "ipython3",
   "version": "3.9.17"
  }
 },
 "nbformat": 4,
 "nbformat_minor": 5
}
