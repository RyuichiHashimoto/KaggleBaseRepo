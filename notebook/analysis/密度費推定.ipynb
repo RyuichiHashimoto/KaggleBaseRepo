{
 "cells": [
  {
   "cell_type": "code",
   "execution_count": 1,
   "id": "7e216f44-5a1b-4866-a7e3-d7e99a2ccb3b",
   "metadata": {
    "tags": []
   },
   "outputs": [],
   "source": [
    "from dataset.Norm2dDataset import Norm2dDataset, Norm2dParameter\n",
    "from sklearn.linear_model import LogisticRegression\n",
    "from evaluator.visualize import joinplot\n",
    "import seaborn as sns\n",
    "import matplotlib.pyplot as plt\n",
    "from models.logistic_regression import LogisticRegression\n",
    "import warnings\n",
    "from DRE.MLBasedDRE import MLBasedDRE\n",
    "warnings.simplefilter(\"ignore\")"
   ]
  },
  {
   "cell_type": "markdown",
   "id": "6a036c83-499f-47f9-84f8-5fc9d2488c17",
   "metadata": {},
   "source": [
    "# create dataset"
   ]
  },
  {
   "cell_type": "code",
   "execution_count": 2,
   "id": "7b7e1321-5295-4b52-b172-2164f62a55f7",
   "metadata": {
    "tags": []
   },
   "outputs": [],
   "source": [
    "param1 =  {\"myu\":[10,10], \"sigma\": [[1,0],[0,1]], \"samples\": 1000}\n",
    "param2 = {\"myu\":[0,0], \"sigma\": [[1,0],[0,1]], \"samples\": 1000}\n",
    "dataset = Norm2dDataset((param1, param2))\n",
    "\n",
    "param = {\"penalty\":\"l2\"}\n",
    "model = LogisticRegression(param)\n",
    "model.train(dataset.X, dataset.Y)\n",
    "dataset[\"rprob\"] = model.predict_proba(dataset.X)[:,1].round(1)\n",
    "\n",
    "# joinplot(dataset, hue = \"y\")\n",
    "# joinplot(dataset, hue = \"rprob\")"
   ]
  },
  {
   "cell_type": "code",
   "execution_count": 3,
   "id": "518bd401-72bc-4d97-972a-fe48ec4d37f4",
   "metadata": {},
   "outputs": [],
   "source": [
    "dataset[\"inv_rprob\"] = (1 - dataset[\"rprob\"].get_column(\"rprob\")).clip(upper_bound = 2,lower_bound= 0.0001)"
   ]
  },
  {
   "cell_type": "code",
   "execution_count": 4,
   "id": "c370875a-5655-43f6-a341-fab958f062cd",
   "metadata": {},
   "outputs": [
    {
     "data": {
      "text/plain": [
       "5000.0"
      ]
     },
     "execution_count": 4,
     "metadata": {},
     "output_type": "execute_result"
    }
   ],
   "source": [
    "(dataset[\"rprob\"].get_column(\"rprob\")/dataset[\"inv_rprob\"].get_column(\"inv_rprob\")).mean()"
   ]
  },
  {
   "cell_type": "code",
   "execution_count": 5,
   "id": "c0c559f1-af5d-4318-9c7b-727c573dcd66",
   "metadata": {
    "tags": []
   },
   "outputs": [
    {
     "ename": "NameError",
     "evalue": "name 'np' is not defined",
     "output_type": "error",
     "traceback": [
      "\u001b[0;31m---------------------------------------------------------------------------\u001b[0m",
      "\u001b[0;31mNameError\u001b[0m                                 Traceback (most recent call last)",
      "Cell \u001b[0;32mIn[5], line 4\u001b[0m\n\u001b[1;32m      2\u001b[0m sigma \u001b[38;5;241m=\u001b[39m [[\u001b[38;5;241m1\u001b[39m,\u001b[38;5;241m0\u001b[39m],[\u001b[38;5;241m0\u001b[39m,\u001b[38;5;241m1\u001b[39m]]\n\u001b[1;32m      3\u001b[0m size \u001b[38;5;241m=\u001b[39m \u001b[38;5;241m10000\u001b[39m\n\u001b[0;32m----> 4\u001b[0m data1 \u001b[38;5;241m=\u001b[39m \u001b[43mnp\u001b[49m\u001b[38;5;241m.\u001b[39mrandom\u001b[38;5;241m.\u001b[39mmultivariate_normal(myu, sigma, size)\n\u001b[1;32m      5\u001b[0m df1 \u001b[38;5;241m=\u001b[39m pd\u001b[38;5;241m.\u001b[39mDataFrame({\u001b[38;5;124m\"\u001b[39m\u001b[38;5;124mx1\u001b[39m\u001b[38;5;124m\"\u001b[39m:data1[:,\u001b[38;5;241m0\u001b[39m], \u001b[38;5;124m\"\u001b[39m\u001b[38;5;124mx2\u001b[39m\u001b[38;5;124m\"\u001b[39m:data1[:,\u001b[38;5;241m1\u001b[39m]})\n\u001b[1;32m      6\u001b[0m df1[\u001b[38;5;124m\"\u001b[39m\u001b[38;5;124my\u001b[39m\u001b[38;5;124m\"\u001b[39m] \u001b[38;5;241m=\u001b[39m \u001b[38;5;124m\"\u001b[39m\u001b[38;5;124m0\u001b[39m\u001b[38;5;124m\"\u001b[39m\n",
      "\u001b[0;31mNameError\u001b[0m: name 'np' is not defined"
     ]
    }
   ],
   "source": [
    "myu = [10,10]\n",
    "sigma = [[1,0],[0,1]]\n",
    "size = 10000\n",
    "data1 = np.random.multivariate_normal(myu, sigma, size)\n",
    "df1 = pd.DataFrame({\"x1\":data1[:,0], \"x2\":data1[:,1]})\n",
    "df1[\"y\"] = \"0\"\n",
    "\n",
    "myu = [0, 0]\n",
    "sigma = [[1,0],[0 ,1]]\n",
    "size = 10000\n",
    "data2 = np.random.multivariate_normal(myu, sigma, size)\n",
    "df2 = pd.DataFrame({\"x1\":data2[:,0], \"x2\":data2[:,1]})\n",
    "df2[\"y\"] = \"1\"\n",
    "\n"
   ]
  },
  {
   "cell_type": "code",
   "execution_count": null,
   "id": "58381d2b-c8d7-415e-b47e-42976762fddd",
   "metadata": {},
   "outputs": [],
   "source": [
    "params1 =  {\"myu\":[10,10], \"sigma\": [[1,0],[0,1]], \"size\": 1000}\n",
    "params2 = {\"myu\":[0,0], \"sigma\": [[1,0],[0,1]], \"size\": 1000}\n",
    "create_df(params1, params2);"
   ]
  },
  {
   "cell_type": "markdown",
   "id": "093ed1f2-9e35-4321-9789-3daa5caadb6c",
   "metadata": {},
   "source": [
    "# modeling"
   ]
  },
  {
   "cell_type": "markdown",
   "id": "1a8d772d-f9cb-46da-be98-a271105320fc",
   "metadata": {
    "tags": []
   },
   "source": [
    "## 必須関数"
   ]
  },
  {
   "cell_type": "code",
   "execution_count": null,
   "id": "7a900cad-5497-4316-b6e9-ea3fc5e8d0e7",
   "metadata": {
    "tags": []
   },
   "outputs": [],
   "source": [
    "def predict(df, x1, x2, y):\n",
    "    lr = LogisticRegression(penalty='l2')\n",
    "    lr.fit(df[[x1,x2]], df[y])    \n",
    "    df[\"prob\"] = lr.predict_proba(df[[\"x1\", \"x2\"]])[:,0]    \n",
    "    df[\"rprob\"] = df[\"prob\"].round(1)\n",
    "        \n",
    "    # sns.jointplot(data = df,x = x1, y = x2, hue= y)\n",
    "    sns.jointplot(data = df,x = x1, y = x2, hue= \"rprob\")\n",
    "    return df\n",
    "            "
   ]
  },
  {
   "cell_type": "markdown",
   "id": "8829e3fd-8067-4f32-9bc0-a13bdc765042",
   "metadata": {
    "tags": []
   },
   "source": [
    "## 完全分離"
   ]
  },
  {
   "cell_type": "code",
   "execution_count": null,
   "id": "aba145df-49d4-4ef9-b051-bd003db4b8db",
   "metadata": {
    "tags": []
   },
   "outputs": [],
   "source": [
    "predict(df, \"x1\", \"x2\", \"y\");"
   ]
  },
  {
   "cell_type": "markdown",
   "id": "7181e3fa-f6de-4c45-8028-62974b638598",
   "metadata": {},
   "source": [
    "## 一部重なり"
   ]
  },
  {
   "cell_type": "code",
   "execution_count": null,
   "id": "b3ac342c-9122-4428-ac22-6af9d42509dd",
   "metadata": {
    "tags": []
   },
   "outputs": [],
   "source": [
    "params1 =  {\"myu\":[2,2], \"sigma\": [[1,0],[0,1]], \"size\": 1000}\n",
    "params2 = {\"myu\":[0,0], \"sigma\": [[1,0],[0,1]], \"size\": 1000}\n",
    "df = create_df(params1, params2);\n",
    "predict(df, \"x1\", \"x2\", \"y\");\n",
    "print()"
   ]
  },
  {
   "cell_type": "code",
   "execution_count": null,
   "id": "d1a9067b-bb1c-4a21-a7f1-72a17a55fd78",
   "metadata": {
    "tags": []
   },
   "outputs": [],
   "source": [
    "params1 =  {\"myu\":[2,2], \"sigma\": [[1,0],[0,1]], \"size\": 50}\n",
    "params2 = {\"myu\":[0,0], \"sigma\": [[1,0],[0,1]], \"size\": 1000}\n",
    "df = create_df(params1, params2);\n",
    "predict(df, \"x1\", \"x2\", \"y\");\n",
    "# print()"
   ]
  },
  {
   "cell_type": "code",
   "execution_count": null,
   "id": "c65f3baa-d897-4157-b33e-11839804a76c",
   "metadata": {
    "tags": []
   },
   "outputs": [],
   "source": [
    "params1 =  {\"myu\":[0,0], \"sigma\": [[1,0],[0,1]], \"size\":1000}\n",
    "params2 = {\"myu\":[0,0], \"sigma\": [[1,0],[0,1]], \"size\": 1000}\n",
    "df = create_df(params1, params2);\n",
    "df = predict(df, \"x1\", \"x2\", \"y\");\n",
    "# print()"
   ]
  },
  {
   "cell_type": "code",
   "execution_count": null,
   "id": "0a0803b4-d41d-4e41-9550-235bd16627e3",
   "metadata": {
    "tags": []
   },
   "outputs": [],
   "source": [
    "params1 =  {\"myu\":[2,2], \"sigma\": [[1,-0.8],[-0.8,1]], \"size\":2000}\n",
    "params2 = {\"myu\":[0,0], \"sigma\": [[1,0.6],[0.6,1]], \"size\": 1000}\n",
    "df = create_df(params1, params2);\n",
    "df = predict(df, \"x1\", \"x2\", \"y\");\n",
    "# print()"
   ]
  },
  {
   "cell_type": "markdown",
   "id": "bff40a31-3997-4855-887e-a31abfe29f06",
   "metadata": {},
   "source": [
    "## random forest"
   ]
  },
  {
   "cell_type": "code",
   "execution_count": null,
   "id": "e229c3f0-5f0a-4fcf-a7ed-82ca0c915e15",
   "metadata": {
    "tags": []
   },
   "outputs": [],
   "source": [
    "def predict_random_forest(df, x1, x2, y):\n",
    "    rf = RandomForestClassifier()\n",
    "    rf.fit(df[[x1,x2]], df[y])    \n",
    "    df[\"prob\"] = rf.predict_proba(df[[x1, x2]])[:,0]    \n",
    "    df[\"rprob\"] = df[\"prob\"].round(1)\n",
    "        \n",
    "    sns.jointplot(data = df,x = x1, y = x2, hue= \"rprob\")\n",
    "    return df"
   ]
  },
  {
   "cell_type": "code",
   "execution_count": null,
   "id": "f85af45d-faa4-4fc5-8a13-117c9365db60",
   "metadata": {},
   "outputs": [],
   "source": [
    "from models.random_forest import RandomForest"
   ]
  },
  {
   "cell_type": "code",
   "execution_count": null,
   "id": "f660c73e-ad64-4af5-909f-632411907236",
   "metadata": {
    "tags": []
   },
   "outputs": [],
   "source": [
    "params1 =  {\"myu\":[0,0], \"sigma\": [[1,0],[0,1]], \"size\":1000}\n",
    "params2 = {\"myu\":[0,0], \"sigma\": [[1,0],[0,1]], \"size\": 1000}\n",
    "df = create_df(params1, params2);\n",
    "df = predict_random_forest(df, \"x1\", \"x2\", \"y\");"
   ]
  },
  {
   "cell_type": "code",
   "execution_count": null,
   "id": "7b9530c3-31e8-454d-9fc1-f79bfce5620f",
   "metadata": {
    "tags": []
   },
   "outputs": [],
   "source": [
    "params1 =  {\"myu\":[2,2], \"sigma\": [[1,0],[0,1]], \"size\": 1000}\n",
    "params2 = {\"myu\":[0,0], \"sigma\": [[1,0],[0,1]], \"size\": 1000}\n",
    "df = create_df(params1, params2);\n",
    "predict_random_forest(df, \"x1\", \"x2\", \"y\");\n",
    "print()"
   ]
  },
  {
   "cell_type": "code",
   "execution_count": null,
   "id": "4b18bbff-7fdb-4940-bef6-4a55ee1a7e76",
   "metadata": {
    "tags": []
   },
   "outputs": [],
   "source": [
    "params1 =  {\"myu\":[2,2], \"sigma\": [[1,-0.8],[-0.8,1]], \"size\":2000}\n",
    "params2 = {\"myu\":[0,0], \"sigma\": [[1,0.6],[0.6,1]], \"size\": 1000}\n",
    "df = create_df(params1, params2);\n",
    "df = predict_random_forest(df, \"x1\", \"x2\", \"y\");\n",
    "# print()"
   ]
  },
  {
   "cell_type": "code",
   "execution_count": null,
   "id": "db8cd3c3-9845-40bd-b132-d49cdb7f396f",
   "metadata": {
    "tags": []
   },
   "outputs": [],
   "source": [
    "params1 =  {\"myu\":[1,1], \"sigma\": [[1,-0.8],[-0.8,1]], \"size\":2000}\n",
    "params2 = {\"myu\":[0,0], \"sigma\": [[1,0.6],[0.6,1]], \"size\": 1000}\n",
    "df = create_df(params1, params2);\n",
    "df = predict_random_forest(df, \"x1\", \"x2\", \"y\");\n",
    "# print()"
   ]
  },
  {
   "cell_type": "markdown",
   "id": "8f7fe5ce-454d-4d1a-8841-d0553c4b3011",
   "metadata": {},
   "source": [
    "## MLP"
   ]
  },
  {
   "cell_type": "code",
   "execution_count": null,
   "id": "f899706e-cee9-4d0d-abe6-0a85f9571407",
   "metadata": {
    "tags": []
   },
   "outputs": [],
   "source": [
    "class MLP(nn.Module):\n",
    "    def __init__(self, input_dim):\n",
    "        super(MLP, self).__init__()\n",
    "        self.fc1 = nn.Linear(input_dim, 10)\n",
    "        self.fc2 = nn.Linear(10, 1)        \n",
    "        self.F = F.relu\n",
    "        self.sigmoid = F.sigmoid\n",
    "\n",
    "    def forward(self, x):\n",
    "        x = self.F(self.fc1(x))\n",
    "        x = self.fc2(x)\n",
    "        return self.sigmoid(x)\n",
    "    \n",
    "def fit(model, x, y):\n",
    "    criterion = nn.BCELoss().cuda()\n",
    "    optimizer = torch.optim.AdamW(model.parameters(), lr=0.01)\n",
    "\n",
    "    for i in tqdm(range(3000)):\n",
    "        optimizer.zero_grad()\n",
    "        output = model(x)\n",
    "        loss = criterion(output, y)\n",
    "        loss.backward()\n",
    "        optimizer.step()\n",
    "        \n",
    "def predict(model, x):\n",
    "    with torch.no_grad():\n",
    "        pred = model(x)\n",
    "    return pred\n",
    "\n",
    "def predict_MLP(df, x1,x2, y):\n",
    "    model = MLP(2).cuda()\n",
    "    \n",
    "    X = torch.from_numpy(df[[x1, x2]].values).cuda().float()\n",
    "    y = torch.from_numpy(df[[\"y\"]].astype(float).values).cuda().float()\n",
    "    \n",
    "    fit(model, X, y)\n",
    "    \n",
    "    df[\"prob\"] = predict(model, X).cpu()\n",
    "    df[\"rprob\"] = df[\"prob\"].round(1)\n",
    "    sns.jointplot(data = df,x = \"x1\", y = \"x2\", hue= \"rprob\")\n",
    "    return df\n"
   ]
  },
  {
   "cell_type": "code",
   "execution_count": null,
   "id": "c7fb3cb7-0117-4f97-8a30-3a73b63e92fb",
   "metadata": {},
   "outputs": [],
   "source": [
    "from models.MLP_"
   ]
  },
  {
   "cell_type": "code",
   "execution_count": null,
   "id": "f4187898-0c32-400a-8e19-0c19441314fb",
   "metadata": {
    "tags": []
   },
   "outputs": [],
   "source": [
    "params1 =  {\"myu\":[1,1], \"sigma\": [[0.1,-0.08],[-0.08,0.1]], \"size\":1000}\n",
    "params2 = {\"myu\":[-1,-1], \"sigma\": [[0.1,0.06],[0.06,0.1]], \"size\": 1000}\n",
    "df = create_df(params1, params2);\n",
    "df = predict_MLP(df, \"x1\", \"x2\", \"y\")"
   ]
  },
  {
   "cell_type": "code",
   "execution_count": null,
   "id": "01d3f62d-1e75-4912-904f-0813f626ed25",
   "metadata": {
    "tags": []
   },
   "outputs": [],
   "source": [
    "kyo1 = 0\n",
    "kyo2 = 0\n",
    "params1 =  {\"myu\":[0,0], \"sigma\": [[0.1,kyo1],[kyo1,0.1]], \"size\":1000}\n",
    "params2 = {\"myu\":[0,0], \"sigma\": [[0.1,kyo2],[kyo2,0.1]], \"size\": 1000}\n",
    "df = create_df(params1, params2);\n",
    "df = predict_MLP(df, \"x1\", \"x2\", \"y\")\n",
    "\n",
    "df[df[\"prob\"] < 1E-6] = 1E-6\n",
    "df[df[\"prob\"] > 1 - 1E-6] = 1 - 1E-6\n",
    "print((df[\"prob\"]/(1-df[\"prob\"])).mean())"
   ]
  },
  {
   "cell_type": "code",
   "execution_count": null,
   "id": "a388bf87-1111-457a-b840-d6a421669f9f",
   "metadata": {
    "tags": []
   },
   "outputs": [],
   "source": [
    "params1 =  {\"myu\":[1,1], \"sigma\": [[1,-0.8],[-0.8,1]], \"size\":1000}\n",
    "params2 = {\"myu\":[0,0], \"sigma\": [[1,0.6],[0.6,1]], \"size\": 1000}\n",
    "df = create_df(params1, params2);\n",
    "df = predict_random_forest(df, \"x1\", \"x2\", \"y\");\n",
    "\n",
    "df[df[\"prob\"] < 1E-6] = 1E-6\n",
    "df[df[\"prob\"] > 1 - 1E-6] = 1 - 1E-6\n",
    "print((df[\"prob\"]/(1-df[\"prob\"])).mean())"
   ]
  },
  {
   "cell_type": "code",
   "execution_count": null,
   "id": "d3503cfb-8a47-425f-8ecc-e4071f2edb23",
   "metadata": {
    "tags": []
   },
   "outputs": [],
   "source": [
    "params1 =  {\"myu\":[0.05,0.05], \"sigma\": [[10,0.5],[0.5,10]], \"size\":1000}\n",
    "params2 = {\"myu\":[0,0], \"sigma\": [[1,0.5],[0.5,1]], \"size\": 1000}\n",
    "df = create_df(params1, params2);\n",
    "df = predict_random_forest(df, \"x1\", \"x2\", \"y\");\n",
    "\n",
    "df[df[\"prob\"] < 1E-6] = 1E-6\n",
    "df[df[\"prob\"] > 1 - 1E-6] = 1 - 1E-6\n",
    "print((df[\"prob\"]/(1-df[\"prob\"])).mean())"
   ]
  },
  {
   "cell_type": "code",
   "execution_count": 1,
   "id": "8f7518f1-52c4-45fe-a0e8-d6e58d05f704",
   "metadata": {},
   "outputs": [
    {
     "name": "stderr",
     "output_type": "stream",
     "text": [
      "/home/work/.cache/pypoetry/virtualenvs/godaddy-3UyvmeC2-py3.9/lib/python3.9/site-packages/tqdm/auto.py:21: TqdmWarning: IProgress not found. Please update jupyter and ipywidgets. See https://ipywidgets.readthedocs.io/en/stable/user_install.html\n",
      "  from .autonotebook import tqdm as notebook_tqdm\n"
     ]
    }
   ],
   "source": [
    "import torch"
   ]
  },
  {
   "cell_type": "code",
   "execution_count": 2,
   "id": "f3af8c3d-3da1-45fa-9391-775f04fd768e",
   "metadata": {},
   "outputs": [
    {
     "data": {
      "text/plain": [
       "False"
      ]
     },
     "execution_count": 2,
     "metadata": {},
     "output_type": "execute_result"
    }
   ],
   "source": [
    "torch.cuda.is_available()"
   ]
  },
  {
   "cell_type": "code",
   "execution_count": null,
   "id": "45e13191-3849-407c-9e25-a07125fd7c8f",
   "metadata": {},
   "outputs": [],
   "source": []
  }
 ],
 "metadata": {
  "kernelspec": {
   "display_name": "Python 3 (ipykernel)",
   "language": "python",
   "name": "python3"
  },
  "language_info": {
   "codemirror_mode": {
    "name": "ipython",
    "version": 3
   },
   "file_extension": ".py",
   "mimetype": "text/x-python",
   "name": "python",
   "nbconvert_exporter": "python",
   "pygments_lexer": "ipython3",
   "version": "3.9.17"
  },
  "toc-autonumbering": true
 },
 "nbformat": 4,
 "nbformat_minor": 5
}
