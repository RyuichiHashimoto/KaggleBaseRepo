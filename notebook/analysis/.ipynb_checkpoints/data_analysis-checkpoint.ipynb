{
 "cells": [
  {
   "cell_type": "code",
   "execution_count": 24,
   "id": "4b04ad89-ad4d-438b-9726-c2996c3aef55",
   "metadata": {},
   "outputs": [],
   "source": [
    "import polars as pl\n",
    "\n",
    "pl_DataFrame = pl.internals.dataframe.frame.DataFrame"
   ]
  },
  {
   "cell_type": "code",
   "execution_count": 22,
   "id": "3c477467-fca1-4cbd-87bc-4bf1998105eb",
   "metadata": {
    "tags": []
   },
   "outputs": [
    {
     "data": {
      "text/plain": [
       "polars.internals.dataframe.frame.DataFrame"
      ]
     },
     "execution_count": 22,
     "metadata": {},
     "output_type": "execute_result"
    }
   ],
   "source": [
    "type(df)"
   ]
  },
  {
   "cell_type": "code",
   "execution_count": null,
   "id": "76ba42d0-a03d-4a8d-891e-fa28ae8056a6",
   "metadata": {},
   "outputs": [],
   "source": [
    "def add_date_from_unittime(df: pl_DataFrame) -> pl_DataFrame:\n",
    "    return df.with_columns((pl.col(\"UNIXTIME\")*1000).alias(\"a\").cast(pl.Datetime).dt.with_time_unit('ms'))"
   ]
  },
  {
   "cell_type": "code",
   "execution_count": 4,
   "id": "c0f6519e-a352-4a8a-96ce-c7dc3689ad89",
   "metadata": {
    "tags": []
   },
   "outputs": [],
   "source": [
    "df = pl.read_csv(\"sample.csv\")"
   ]
  },
  {
   "cell_type": "code",
   "execution_count": 21,
   "id": "30644a4f-a793-46c0-9282-12eddb1dd141",
   "metadata": {
    "tags": []
   },
   "outputs": [
    {
     "data": {
      "text/html": [
       "<div>\n",
       "<style scoped>\n",
       "    .dataframe tbody tr th:only-of-type {\n",
       "        vertical-align: middle;\n",
       "    }\n",
       "\n",
       "    .dataframe tbody tr th {\n",
       "        vertical-align: top;\n",
       "    }\n",
       "\n",
       "    .dataframe thead th {\n",
       "        text-align: right;\n",
       "    }\n",
       "\n",
       "    .dataframe td {\n",
       "        white-space: pre;\n",
       "    }\n",
       "\n",
       "    .dataframe td {\n",
       "        padding-top: 0;\n",
       "    }\n",
       "\n",
       "    .dataframe td {\n",
       "        padding-bottom: 0;\n",
       "    }\n",
       "\n",
       "    .dataframe td {\n",
       "        line-height: 95%;\n",
       "    }\n",
       "</style>\n",
       "<table border=\"1\" class=\"dataframe\">\n",
       "<small>shape: (5, 6)</small>\n",
       "<thead>\n",
       "<tr>\n",
       "<th>\n",
       "UNIXTIME\n",
       "</th>\n",
       "<th>\n",
       "hash[ip.src.upper16]\n",
       "</th>\n",
       "<th>\n",
       "hash[ip.src.32]\n",
       "</th>\n",
       "<th>\n",
       "ip.dst.lower16\n",
       "</th>\n",
       "<th>\n",
       "tcp.dport\n",
       "</th>\n",
       "<th>\n",
       "a\n",
       "</th>\n",
       "</tr>\n",
       "<tr>\n",
       "<td>\n",
       "f64\n",
       "</td>\n",
       "<td>\n",
       "str\n",
       "</td>\n",
       "<td>\n",
       "str\n",
       "</td>\n",
       "<td>\n",
       "f64\n",
       "</td>\n",
       "<td>\n",
       "i64\n",
       "</td>\n",
       "<td>\n",
       "datetime[ms]\n",
       "</td>\n",
       "</tr>\n",
       "</thead>\n",
       "<tbody>\n",
       "<tr>\n",
       "<td>\n",
       "1.6410e9\n",
       "</td>\n",
       "<td>\n",
       "&quot;2fe1ec63c455bd...\n",
       "</td>\n",
       "<td>\n",
       "&quot;457d5c7b1a91d2...\n",
       "</td>\n",
       "<td>\n",
       "100.1\n",
       "</td>\n",
       "<td>\n",
       "23\n",
       "</td>\n",
       "<td>\n",
       "2021-12-31 15:00:00.120\n",
       "</td>\n",
       "</tr>\n",
       "<tr>\n",
       "<td>\n",
       "1.6410e9\n",
       "</td>\n",
       "<td>\n",
       "&quot;2d9e8afbdd75fd...\n",
       "</td>\n",
       "<td>\n",
       "&quot;39825211c3134d...\n",
       "</td>\n",
       "<td>\n",
       "100.101\n",
       "</td>\n",
       "<td>\n",
       "2323\n",
       "</td>\n",
       "<td>\n",
       "2021-12-31 15:00:00.210\n",
       "</td>\n",
       "</tr>\n",
       "<tr>\n",
       "<td>\n",
       "1.6410e9\n",
       "</td>\n",
       "<td>\n",
       "&quot;1f5f57cbe46c47...\n",
       "</td>\n",
       "<td>\n",
       "&quot;2ee37d765230ea...\n",
       "</td>\n",
       "<td>\n",
       "101.1\n",
       "</td>\n",
       "<td>\n",
       "80\n",
       "</td>\n",
       "<td>\n",
       "2021-12-31 15:00:00.210\n",
       "</td>\n",
       "</tr>\n",
       "<tr>\n",
       "<td>\n",
       "1.6410e9\n",
       "</td>\n",
       "<td>\n",
       "&quot;cf31089c853c78...\n",
       "</td>\n",
       "<td>\n",
       "&quot;ea9eb9ad3e94e5...\n",
       "</td>\n",
       "<td>\n",
       "101.101\n",
       "</td>\n",
       "<td>\n",
       "8080\n",
       "</td>\n",
       "<td>\n",
       "2021-12-31 15:00:00.330\n",
       "</td>\n",
       "</tr>\n",
       "<tr>\n",
       "<td>\n",
       "1.6410e9\n",
       "</td>\n",
       "<td>\n",
       "&quot;7f10d3eecd32bf...\n",
       "</td>\n",
       "<td>\n",
       "&quot;717aecfa766c46...\n",
       "</td>\n",
       "<td>\n",
       "100.102\n",
       "</td>\n",
       "<td>\n",
       "443\n",
       "</td>\n",
       "<td>\n",
       "2021-12-31 15:00:00.360\n",
       "</td>\n",
       "</tr>\n",
       "</tbody>\n",
       "</table>\n",
       "</div>"
      ],
      "text/plain": [
       "shape: (5, 6)\n",
       "┌──────────┬─────────────────────┬─────────────────────┬────────────────┬───────────┬──────────────┐\n",
       "│ UNIXTIME ┆ hash[ip.src.upper16 ┆ hash[ip.src.32]     ┆ ip.dst.lower16 ┆ tcp.dport ┆ a            │\n",
       "│ ---      ┆ ]                   ┆ ---                 ┆ ---            ┆ ---       ┆ ---          │\n",
       "│ f64      ┆ ---                 ┆ str                 ┆ f64            ┆ i64       ┆ datetime[ms] │\n",
       "│          ┆ str                 ┆                     ┆                ┆           ┆              │\n",
       "╞══════════╪═════════════════════╪═════════════════════╪════════════════╪═══════════╪══════════════╡\n",
       "│ 1.6410e9 ┆ 2fe1ec63c455bd46152 ┆ 457d5c7b1a91d24d774 ┆ 100.1          ┆ 23        ┆ 2021-12-31   │\n",
       "│          ┆ 926d283e91a8c...    ┆ 7179ea793c009...    ┆                ┆           ┆ 15:00:00.120 │\n",
       "│ 1.6410e9 ┆ 2d9e8afbdd75fd5a3be ┆ 39825211c3134d68dd2 ┆ 100.101        ┆ 2323      ┆ 2021-12-31   │\n",
       "│          ┆ 91f1fa290d4e4...    ┆ 6708eb73fcad7...    ┆                ┆           ┆ 15:00:00.210 │\n",
       "│ 1.6410e9 ┆ 1f5f57cbe46c479aef3 ┆ 2ee37d765230eaa9f69 ┆ 101.1          ┆ 80        ┆ 2021-12-31   │\n",
       "│          ┆ 5f4dcb66d618c...    ┆ a0508f0fc4358...    ┆                ┆           ┆ 15:00:00.210 │\n",
       "│ 1.6410e9 ┆ cf31089c853c78cfde5 ┆ ea9eb9ad3e94e59103d ┆ 101.101        ┆ 8080      ┆ 2021-12-31   │\n",
       "│          ┆ c57687cd36132...    ┆ 4554332374c2f...    ┆                ┆           ┆ 15:00:00.330 │\n",
       "│ 1.6410e9 ┆ 7f10d3eecd32bfb1c83 ┆ 717aecfa766c462729d ┆ 100.102        ┆ 443       ┆ 2021-12-31   │\n",
       "│          ┆ b81238d42673b...    ┆ b6b7443dbf928...    ┆                ┆           ┆ 15:00:00.360 │\n",
       "└──────────┴─────────────────────┴─────────────────────┴────────────────┴───────────┴──────────────┘"
      ]
     },
     "execution_count": 21,
     "metadata": {},
     "output_type": "execute_result"
    }
   ],
   "source": []
  },
  {
   "cell_type": "code",
   "execution_count": 16,
   "id": "4c016432-bdb7-44a5-a799-074e41cd5d92",
   "metadata": {
    "tags": []
   },
   "outputs": [
    {
     "data": {
      "text/plain": [
       "1640962800.12"
      ]
     },
     "execution_count": 16,
     "metadata": {},
     "output_type": "execute_result"
    }
   ],
   "source": [
    "df.get_column(\"UNIXTIME\")[0]"
   ]
  },
  {
   "cell_type": "code",
   "execution_count": null,
   "id": "a4750e92-a3c3-4685-8606-7d88be564fd8",
   "metadata": {},
   "outputs": [],
   "source": [
    "1397392146866\n",
    "1640962800.12"
   ]
  }
 ],
 "metadata": {
  "kernelspec": {
   "display_name": "Python 3 (ipykernel)",
   "language": "python",
   "name": "python3"
  },
  "language_info": {
   "codemirror_mode": {
    "name": "ipython",
    "version": 3
   },
   "file_extension": ".py",
   "mimetype": "text/x-python",
   "name": "python",
   "nbconvert_exporter": "python",
   "pygments_lexer": "ipython3",
   "version": "3.9.17"
  }
 },
 "nbformat": 4,
 "nbformat_minor": 5
}
